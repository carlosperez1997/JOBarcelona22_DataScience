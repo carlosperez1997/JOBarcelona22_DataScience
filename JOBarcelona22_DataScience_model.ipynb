{
  "nbformat": 4,
  "nbformat_minor": 0,
  "metadata": {
    "colab": {
      "name": "JOBarcelona22_DataScience_model.ipynb",
      "provenance": [],
      "collapsed_sections": [],
      "authorship_tag": "ABX9TyMN/SqtUgznqqn2fDC9yXSx",
      "include_colab_link": true
    },
    "kernelspec": {
      "name": "python3",
      "display_name": "Python 3"
    },
    "language_info": {
      "name": "python"
    }
  },
  "cells": [
    {
      "cell_type": "markdown",
      "metadata": {
        "id": "view-in-github",
        "colab_type": "text"
      },
      "source": [
        "<a href=\"https://colab.research.google.com/github/carlosperez1997/JOBarcelona22_DataScience/blob/main/JOBarcelona22_DataScience_model.ipynb\" target=\"_parent\"><img src=\"https://colab.research.google.com/assets/colab-badge.svg\" alt=\"Open In Colab\"/></a>"
      ]
    },
    {
      "cell_type": "markdown",
      "source": [
        "# JOBarcelona ’22 | Data Science\n",
        "# **Modelo de predicción**\n",
        "**Desarrollado por**: Carlos Pérez Ricardo\n",
        "\n",
        "**Puesto**: Data Scientist en Grupo Hotusa\n",
        "\n",
        "En este notebook se construirá un modelo de Machine Learning que determina qué tipo de insecto corresponde cada registro sabiendo sus atributos: hora, la lectura de los sensores y su combinación. \n",
        "\n",
        "El modelo que se obtiene tiene un F1-score macro de 0.99417 en TRAIN y 0.83230 en test. Hay claramente un overfitting!\n",
        "\n",
        "Pero este overfitting es inevitable porque hay muy pocos registros (7000 únicamente). Pese a entrenar un modelo con unos hyperparameters no muy agresivos, el modelo tiende a memorizar rápidamente los valores en train (pese a realizar Cross Validation con altas particiones). \n",
        "\n",
        "Se sugiere conseguir más datos o bien generar datos sintéticos (aunque estos datos serían inventados). \n",
        "\n",
        "## **Data Understanding**\n",
        "El dataset contiene datos de las mediciones de los sensores, el tiempo de las mediciones y el tipo de insecto identificado.\n",
        "\n",
        "El dataset 'train.csv' contiene las siguientes variables:\n",
        "\n",
        "* *Hour*: Hora a la que se ha hecho la medición.\n",
        "\n",
        "* *Minutes*: Minutos en los que se ha realizado la medición.\n",
        "\n",
        "* *Sensor_alpha*: Posición del insecto al sensor alpha.\n",
        "\n",
        "* *Sensor_beta*: Posición del insecto al sensor beta.\n",
        "\n",
        "* *Sensor_gamma*: Posición del insecto al sensor gamma.\n",
        "\n",
        "* *Sensor_alpha_plus*: Posición del insecto al sensor alpha+.\n",
        "\n",
        "* *Sensor_beta_plus*: Posición del insecto al sensor beta+.\n",
        "\n",
        "* *Sensor_gamma_plus*: Posición del insecto al sensor gamma+.\n",
        "\n",
        "* *Insect*: Categoría de insecto.\n",
        "  - 0 -> Lepidoptero\n",
        "  - 1 -> Himenoptera\n",
        "  - 2 -> Diptera"
      ],
      "metadata": {
        "id": "TgI39k_kKPgG"
      }
    },
    {
      "cell_type": "markdown",
      "source": [
        "# **Generación de los modelos**\n",
        "\n",
        "En este apartado se van a construir diferentes modelos de predicción con el objetivo de obtener la configuración y el modelo que mejor predice el target. Varias tipologías de modelos van a ser testeadas:\n",
        "\n",
        "- **SVM**: Se aplica un Support Vector Machines, para ello primero hay que normalizar los datos con un StandardScaler. \n",
        "\n",
        "- **PCA-KNN**: Se aplicará una PCA (Principal Componenent Analysis) para reducir el número de features para después aplicar un modelo de KNN (K-Nearest Neighbours).\n",
        "\n",
        "- **LDA-KNN**: Se aplicará una LDA (Linear Discriminant Analysis) para reducir el número de features para después aplicar un modelo de KNN (K-Nearest Neighbours).\n",
        "\n",
        "- **Multiclass RF**: Multiclass Random Forest Classifier que predice el tipo de insecto directamente. El mismo modelo es capaz de decir a qué categoría de insecto pertenece el registro (multiclass classification)\n",
        "\n",
        "- **SMOTE - Multiclass RF**: Como el número de registros para cada insecto es diferente se propone hacer un oversample de las categorías minotarias con el objetivo de que el modelo sepa reconocerlas. Se implementa un oversample con Synthetic Minority Over-sampling Technique (SMOTE) y después se entrena un Random Forest Classifier.\n",
        "\n",
        "- **One for each - LGBM**: Se construye un modelo para insecto. Cada modelo predice la probabilidad de cada registro de pertener a ese tipo de insecto. La solución del modelo que predice 1 con la probabilidad más alta se selecciona.    \n",
        "\n",
        "Otras tipologías de modelos que se podrían haber planteado son:\n",
        "- DBSCAN: Similar a KNN. \n",
        "- Neural Nets: Encontrar la arquitectura no debería ser demasiado complicado al ser datos numéricos. Sería interesante deshacerse de las combinaciones lineales de los sensores, pues estas computaciones ya las hace la Red Neuronal.\n",
        "- Ensembling: En lugar de una sola solución de un solo modelo, porque no combinar los diferentes modelos construidos. Puede ser que un modelo sea muy bueno prediciendo un tipo de insecto y otro tipo de modelo sea bueno reconociendo otro. Podríamos tomar conocimiento y aprendizaje de cada enfoque.\n"
      ],
      "metadata": {
        "id": "hXknyVDsG32U"
      }
    },
    {
      "cell_type": "markdown",
      "source": [
        "**Importación de los paquetes y datos**"
      ],
      "metadata": {
        "id": "bd4bpBFIMWCU"
      }
    },
    {
      "cell_type": "code",
      "source": [
        "# Basics\n",
        "import pandas as pd\n",
        "import numpy as np\n",
        "import os\n",
        "\n",
        "# Tools\n",
        "from sklearn.preprocessing import StandardScaler, MinMaxScaler\n",
        "\n",
        "# Preprocessing\n",
        "from sklearn.model_selection import train_test_split\n",
        "from sklearn.decomposition import PCA\n",
        "from sklearn.discriminant_analysis import LinearDiscriminantAnalysis\n",
        "from sklearn.neighbors import KNeighborsClassifier, NeighborhoodComponentsAnalysis\n",
        "from sklearn.pipeline import make_pipeline\n",
        "from sklearn.preprocessing import StandardScaler\n",
        "from sklearn.preprocessing import MinMaxScaler\n",
        "from sklearn.preprocessing import LabelEncoder\n",
        "import sklearn.preprocessing as pp\n",
        "from imblearn.over_sampling import SMOTE, SMOTENC\n",
        "from collections import Counter\n",
        "\n",
        "# Models\n",
        "from sklearn.ensemble import RandomForestClassifier\n",
        "import lightgbm as lgb\n",
        "from sklearn.model_selection import GridSearchCV\n",
        "from sklearn.svm import SVC\n",
        "\n",
        "# Metrics\n",
        "from sklearn.metrics import confusion_matrix\n",
        "from sklearn.metrics import f1_score \n",
        "\n",
        "# Visualisation\n",
        "import matplotlib.pyplot as plt\n",
        "import seaborn as sns\n",
        "from matplotlib import rcParams"
      ],
      "metadata": {
        "id": "bUCyODe7MYnH"
      },
      "execution_count": 1,
      "outputs": []
    },
    {
      "cell_type": "code",
      "source": [
        "DIR = '/content'\n",
        "TARGET = 'Insect'\n",
        "random_state = 42"
      ],
      "metadata": {
        "id": "sm1uD_qoMptB"
      },
      "execution_count": 2,
      "outputs": []
    },
    {
      "cell_type": "code",
      "source": [
        "train_df = pd.read_csv(os.path.join(DIR,'train.csv'), index_col = 0)"
      ],
      "metadata": {
        "id": "jGFQ_YcWMU2E"
      },
      "execution_count": 3,
      "outputs": []
    },
    {
      "cell_type": "code",
      "source": [
        "train_df.shape"
      ],
      "metadata": {
        "colab": {
          "base_uri": "https://localhost:8080/"
        },
        "id": "jwYYRL2CShCn",
        "outputId": "c4468cac-f296-43e2-cd9e-b0cc6a8d2b28"
      },
      "execution_count": 4,
      "outputs": [
        {
          "output_type": "execute_result",
          "data": {
            "text/plain": [
              "(7001, 9)"
            ]
          },
          "metadata": {},
          "execution_count": 4
        }
      ]
    },
    {
      "cell_type": "code",
      "source": [
        "train_df['Hour'] =  train_df['Hour'].astype('category')\n",
        "train_df['Insect'] =  train_df['Insect'].astype('category')"
      ],
      "metadata": {
        "id": "8kLVFn6INysh"
      },
      "execution_count": 5,
      "outputs": []
    },
    {
      "cell_type": "code",
      "source": [
        "vars = ['Sensor_alpha', 'Sensor_beta', 'Sensor_gamma', 'Sensor_alpha_plus', 'Sensor_beta_plus', 'Sensor_gamma_plus']"
      ],
      "metadata": {
        "id": "Y13D796AHVis"
      },
      "execution_count": 6,
      "outputs": []
    },
    {
      "cell_type": "markdown",
      "source": [
        "## Generación de nuevos atributos\n",
        "\n",
        "Generamos los atributos que son combinación lineal de 2 y 3 atributos (datos de sensores). "
      ],
      "metadata": {
        "id": "DV7PH3DymDuf"
      }
    },
    {
      "cell_type": "code",
      "source": [
        "# 2 comb\n",
        "n_sum, n_diff, n_mult = 6, 6, 6\n",
        "\n",
        "# 3 comb\n",
        "n_sumsum, n_sumdiff, n_summult = 4, 4, 4\n",
        "n_diffdiff, n_diffsum, n_diffmult = 3, 3, 3\n",
        "n_multmult, n_multsum, n_multdiff = 3, 3, 2\n",
        "\n",
        "vars = ['Sensor_alpha', 'Sensor_beta', 'Sensor_gamma', 'Sensor_alpha_plus', 'Sensor_beta_plus', 'Sensor_gamma_plus']"
      ],
      "metadata": {
        "id": "GwWn2dHjiRKl"
      },
      "execution_count": 7,
      "outputs": []
    },
    {
      "cell_type": "code",
      "source": [
        "def op_2comp(df, vars, fun):\n",
        "    vars_ = vars.copy()\n",
        "     \n",
        "    for var1 in vars:\n",
        "        vars_.remove(var1)\n",
        "        for var2 in vars_:\n",
        "            if fun == 'sum':\n",
        "                df[var1+'_'+var2+'_x'] = df[var1] + df[var2]\n",
        "            elif fun == 'diff':\n",
        "                df[var1+'_'+var2+'_x'] = df[var1] - df[var2]\n",
        "            elif fun == 'mult':\n",
        "                df[var1+'_'+var2+'_x'] = df[var1] * df[var2]\n",
        "\n",
        "    cols = [x for x in df.columns if '_x' in x]\n",
        "    cols_map = { col : str(col).replace('x',fun) if '_x' in col else col for col in cols }\n",
        "    df = df.rename(columns=cols_map)\n",
        "    cols = [x for x in df.columns if fun in x]\n",
        "\n",
        "    diff_among_cats = {}\n",
        "\n",
        "    if TARGET in df.columns: \n",
        "        for col in cols:\n",
        "            x = df.groupby(TARGET)[col].describe().reset_index()\n",
        "            diff_among_cats[col] = x['25%'].max() - x['25%'].min() + x['75%'].max() - x['75%'].min()\n",
        "\n",
        "    return(df, diff_among_cats)"
      ],
      "metadata": {
        "id": "Gsz5KWAHuKkV"
      },
      "execution_count": 8,
      "outputs": []
    },
    {
      "cell_type": "code",
      "source": [
        "def op_3comp(df, vars, fun1, fun2):\n",
        "    vars_1 = vars.copy()\n",
        "    vars_2 = vars.copy()\n",
        "\n",
        "    for var1 in vars: \n",
        "        for var2 in vars_1:\n",
        "            for var3 in vars_2:\n",
        "                #print(var1,var2,var3)\n",
        "\n",
        "                if fun1 == 'sum' and fun2 == 'sum':\n",
        "                    df[var1+'_'+var2+'_'+var3+'_x'] = df[var1] + df[var2] + df[var3]\n",
        "                elif fun1 == 'sum' and fun2 == 'diff':\n",
        "                    df[var1+'_'+var2+'_'+var3+'_x'] = df[var1] + df[var2] - df[var3]\n",
        "                elif fun1 == 'diff' and fun2 == 'sum':\n",
        "                    df[var1+'_'+var2+'_'+var3+'_x'] = df[var1] - df[var2] + df[var3]\n",
        "                elif fun1 == 'diff' and fun2 == 'diff':\n",
        "                    df[var1+'_'+var2+'_'+var3+'_x'] = df[var1] - df[var2] - df[var3]\n",
        "                elif fun1 == 'sum' and fun2 == 'mult':\n",
        "                    df[var1+'_'+var2+'_'+var3+'_x'] = df[var1] + df[var2] * df[var3]\n",
        "                elif fun1 == 'mult' and fun2 == 'sum':\n",
        "                    df[var1+'_'+var2+'_'+var3+'_x'] = df[var1] * df[var2] - df[var3]\n",
        "                elif fun1 == 'diff' and fun2 == 'mult':\n",
        "                    df[var1+'_'+var2+'_'+var3+'_x'] = df[var1] - df[var2] * df[var3]\n",
        "                elif fun1 == 'mult' and fun2 == 'diff':\n",
        "                    df[var1+'_'+var2+'_'+var3+'_x'] = df[var1] * df[var2] - df[var3]\n",
        "                elif fun1 == 'mult' and fun2 == 'mult':\n",
        "                    df[var1+'_'+var2+'_'+var3+'_x'] = df[var1] * df[var2] * df[var3]\n",
        "            try:\n",
        "                vars_2.remove(var2)\n",
        "            except:\n",
        "                pass\n",
        "        vars_1.remove(var1)\n",
        "        try:\n",
        "            vars_2.remove(var1)\n",
        "        except:\n",
        "            pass\n",
        "\n",
        "    cols = [x for x in df.columns if '_x' in x]\n",
        "    cols_map = { col : str(col).replace('x',fun1+fun2) if '_x' in col else col for col in cols }\n",
        "    df = df.rename(columns=cols_map)\n",
        "    cols = [x for x in df.columns if fun1+fun2 in x]\n",
        "\n",
        "    diff_among_cats = {}\n",
        "    \n",
        "    if TARGET in df.columns:\n",
        "        for col in cols:\n",
        "            x = df.groupby(TARGET)[col].describe().reset_index()\n",
        "            diff_among_cats[col] = x['25%'].max() - x['25%'].min() + x['75%'].max() - x['75%'].min()\n",
        "            #distcountplot(train_df, col, 'Insect')\n",
        "\n",
        "    return(df, diff_among_cats)"
      ],
      "metadata": {
        "id": "tP73vJ8x4qzF"
      },
      "execution_count": 9,
      "outputs": []
    },
    {
      "cell_type": "code",
      "source": [
        "def plot_and_keep(df, diff_among_cats, keep, n=3):\n",
        "    cats_order = pd.DataFrame.from_dict({'col':diff_among_cats.keys(), 'value':diff_among_cats.values()})\n",
        "    cats_order = cats_order.sort_values('value', ascending=False)\n",
        "\n",
        "    #for col in cats_order['col'].head(5):\n",
        "    #    distcountplot(df, col, TARGET)\n",
        "        \n",
        "    for col in cats_order['col'].head(n):\n",
        "        keep.append(col)\n",
        "\n",
        "    return(keep)"
      ],
      "metadata": {
        "id": "Pa6Trek9yFLg"
      },
      "execution_count": 10,
      "outputs": []
    },
    {
      "cell_type": "code",
      "source": [
        "keep = list(train_df.columns)"
      ],
      "metadata": {
        "id": "kFmqJS6zHrtw"
      },
      "execution_count": 11,
      "outputs": []
    },
    {
      "cell_type": "markdown",
      "source": [
        "### Combinación de 2 elementos\n",
        "\n",
        "Para saber más véase EDA."
      ],
      "metadata": {
        "id": "suOAEfiemRYR"
      }
    },
    {
      "cell_type": "code",
      "source": [
        "train_df, diff_among_cats = op_2comp(train_df, vars, 'sum')\n",
        "keep = plot_and_keep(train_df, diff_among_cats, keep, n_sum)"
      ],
      "metadata": {
        "id": "WReT-cjxvqg7"
      },
      "execution_count": 12,
      "outputs": []
    },
    {
      "cell_type": "code",
      "source": [
        "train_df, diff_among_cats = op_2comp(train_df, vars, 'diff')\n",
        "keep = plot_and_keep(train_df, diff_among_cats, keep, n_diff)"
      ],
      "metadata": {
        "id": "GnofXTw8xTsd"
      },
      "execution_count": 13,
      "outputs": []
    },
    {
      "cell_type": "code",
      "source": [
        "train_df, diff_among_cats = op_2comp(train_df, vars, 'mult')\n",
        "keep = plot_and_keep(train_df, diff_among_cats, keep, n_mult)"
      ],
      "metadata": {
        "id": "NoCX8-IM6xB2"
      },
      "execution_count": 14,
      "outputs": []
    },
    {
      "cell_type": "markdown",
      "source": [
        "### Combinación de 3 elementos\n",
        "\n",
        "Para saber más véase EDA."
      ],
      "metadata": {
        "id": "VdbitOCzH8CR"
      }
    },
    {
      "cell_type": "code",
      "source": [
        "train_df, diff_among_cats = op_3comp(train_df, vars, 'sum', 'sum')\n",
        "keep = plot_and_keep(train_df, diff_among_cats, keep, n_sumsum)"
      ],
      "metadata": {
        "id": "9fSkzXxk80Jy"
      },
      "execution_count": 15,
      "outputs": []
    },
    {
      "cell_type": "code",
      "source": [
        "train_df, diff_among_cats = op_3comp(train_df, vars, 'sum', 'diff')\n",
        "keep = plot_and_keep(train_df, diff_among_cats, keep, n_sumdiff)"
      ],
      "metadata": {
        "id": "CAakSMAe8596"
      },
      "execution_count": 16,
      "outputs": []
    },
    {
      "cell_type": "code",
      "source": [
        "train_df, diff_among_cats = op_3comp(train_df, vars, 'sum', 'mult')\n",
        "keep = plot_and_keep(train_df, diff_among_cats, keep, n_summult)"
      ],
      "metadata": {
        "id": "ontdOKXu87yp"
      },
      "execution_count": 17,
      "outputs": []
    },
    {
      "cell_type": "code",
      "source": [
        "train_df, diff_among_cats = op_3comp(train_df, vars, 'diff', 'diff')\n",
        "keep = plot_and_keep(train_df, diff_among_cats, keep, n_diffdiff)"
      ],
      "metadata": {
        "id": "SCiPfJPg-H-s"
      },
      "execution_count": 18,
      "outputs": []
    },
    {
      "cell_type": "code",
      "source": [
        "train_df, diff_among_cats = op_3comp(train_df, vars, 'diff', 'sum')\n",
        "keep = plot_and_keep(train_df, diff_among_cats, keep, n_diffsum)"
      ],
      "metadata": {
        "id": "r0NqDR2t-ONH"
      },
      "execution_count": 19,
      "outputs": []
    },
    {
      "cell_type": "code",
      "source": [
        "train_df, diff_among_cats = op_3comp(train_df, vars, 'diff', 'mult')\n",
        "keep = plot_and_keep(train_df, diff_among_cats, keep, n_diffmult)"
      ],
      "metadata": {
        "id": "l42KVCVE-RAB"
      },
      "execution_count": 20,
      "outputs": []
    },
    {
      "cell_type": "code",
      "source": [
        "train_df, diff_among_cats = op_3comp(train_df, vars, 'mult', 'mult')\n",
        "keep = plot_and_keep(train_df, diff_among_cats, keep, n_multmult)"
      ],
      "metadata": {
        "id": "K6F0Jyr4-UoL"
      },
      "execution_count": 21,
      "outputs": []
    },
    {
      "cell_type": "code",
      "source": [
        "train_df, diff_among_cats = op_3comp(train_df, vars, 'mult', 'sum')\n",
        "keep = plot_and_keep(train_df, diff_among_cats, keep, n_multsum)"
      ],
      "metadata": {
        "id": "gQ56iKlv-YIY"
      },
      "execution_count": 22,
      "outputs": []
    },
    {
      "cell_type": "code",
      "source": [
        "train_df, diff_among_cats = op_3comp(train_df, vars, 'mult', 'diff')\n",
        "keep = plot_and_keep(train_df, diff_among_cats, keep, n_multdiff)"
      ],
      "metadata": {
        "id": "qOul6qjC-Yis"
      },
      "execution_count": 23,
      "outputs": []
    },
    {
      "cell_type": "markdown",
      "source": [
        "En lugar de quedarnos con todos los nuevos atributos, nos quedamos únicamente con aquellos atributos que muestran una distribución en el que alguno de los insectos tiene valores distintos al resto. "
      ],
      "metadata": {
        "id": "d31u2nerTGdx"
      }
    },
    {
      "cell_type": "code",
      "source": [
        "train_df = train_df[keep]\n",
        "train_df.shape"
      ],
      "metadata": {
        "id": "Bh_wV9sKTEmu",
        "colab": {
          "base_uri": "https://localhost:8080/"
        },
        "outputId": "d97eae34-9637-4a59-e19d-c8abbf29ff01"
      },
      "execution_count": 24,
      "outputs": [
        {
          "output_type": "execute_result",
          "data": {
            "text/plain": [
              "(7001, 56)"
            ]
          },
          "metadata": {},
          "execution_count": 24
        }
      ]
    },
    {
      "cell_type": "markdown",
      "source": [
        "# Limpieza de los datos\n",
        "\n",
        "En este apartado se realizará una limpieza del dataset. Con suerte, no hay datos nulos. Por lo que únicamente se eliminarán las columnas que tengan una alta correlación.\n",
        "\n",
        "Si 2 variables tienen una correlación alta (de valores cercanos o iguales a 1 o -1), aportan la misma información al modelo. Por lo que es necesario deshacerse de alguna de ellas. \n",
        "\n",
        "En nuestro caso, se eliminarán alguna de las dos columnas donde exista una correlación lineal absoluta mayor a 0.92."
      ],
      "metadata": {
        "id": "3bQa6g_qm0bj"
      }
    },
    {
      "cell_type": "code",
      "source": [
        "high_corr_df = pd.DataFrame()\n",
        "visit_cols = list(train_df.select_dtypes(include=np.number).columns)\n",
        "\n",
        "for x in train_df.select_dtypes(include=np.number).columns:\n",
        "    for y in visit_cols:\n",
        "        if x != y:\n",
        "            if np.array(train_df[[x,y]].corr())[0,1] > 0.8:\n",
        "                high_corr_df = high_corr_df.append({'var1':x, 'var2':y, 'corr':np.array(train_df[[x,y]].corr())[0,1]}, ignore_index=True)\n",
        "    visit_cols.remove(x)\n",
        "\n",
        "high_corr_df.sort_values('corr', ascending=False)"
      ],
      "metadata": {
        "id": "_XdiDfB1PfdL",
        "colab": {
          "base_uri": "https://localhost:8080/",
          "height": 1000
        },
        "outputId": "641e6eb6-f6aa-4ae8-9e19-c1125674a696"
      },
      "execution_count": 25,
      "outputs": [
        {
          "output_type": "execute_result",
          "data": {
            "text/plain": [
              "                                                 var1  \\\n",
              "41     Sensor_alpha_Sensor_alpha_Sensor_gamma_multsum   \n",
              "37  Sensor_alpha_Sensor_alpha_Sensor_alpha_plus_mu...   \n",
              "27                      Sensor_beta_Sensor_gamma_mult   \n",
              "25                 Sensor_beta_Sensor_alpha_plus_mult   \n",
              "26                Sensor_gamma_Sensor_alpha_plus_mult   \n",
              "43  Sensor_alpha_Sensor_alpha_Sensor_gamma_plus_mu...   \n",
              "39     Sensor_alpha_Sensor_alpha_Sensor_gamma_multsum   \n",
              "42  Sensor_alpha_Sensor_alpha_Sensor_gamma_plus_mu...   \n",
              "36  Sensor_alpha_Sensor_alpha_Sensor_alpha_plus_mu...   \n",
              "44  Sensor_alpha_Sensor_alpha_Sensor_alpha_plus_mu...   \n",
              "35  Sensor_alpha_Sensor_alpha_Sensor_alpha_plus_mu...   \n",
              "38  Sensor_alpha_Sensor_alpha_Sensor_alpha_plus_mu...   \n",
              "40     Sensor_alpha_Sensor_alpha_Sensor_gamma_multsum   \n",
              "9                        Sensor_alpha_Sensor_beta_sum   \n",
              "21                      Sensor_alpha_Sensor_beta_diff   \n",
              "14                 Sensor_alpha_Sensor_alpha_plus_sum   \n",
              "10                       Sensor_alpha_Sensor_beta_sum   \n",
              "5                                         Sensor_beta   \n",
              "8                                   Sensor_alpha_plus   \n",
              "7                                        Sensor_gamma   \n",
              "18                 Sensor_beta_Sensor_alpha_plus_diff   \n",
              "29        Sensor_alpha_Sensor_beta_Sensor_beta_sumsum   \n",
              "34      Sensor_alpha_Sensor_beta_Sensor_beta_diffdiff   \n",
              "11                       Sensor_alpha_Sensor_beta_sum   \n",
              "22                      Sensor_alpha_Sensor_beta_diff   \n",
              "3                                         Sensor_beta   \n",
              "33  Sensor_alpha_Sensor_beta_Sensor_alpha_plus_sum...   \n",
              "31  Sensor_alpha_Sensor_alpha_plus_Sensor_alpha_pl...   \n",
              "20                Sensor_gamma_Sensor_alpha_plus_diff   \n",
              "24                 Sensor_beta_Sensor_gamma_plus_diff   \n",
              "19                      Sensor_beta_Sensor_gamma_diff   \n",
              "15                 Sensor_alpha_Sensor_alpha_plus_sum   \n",
              "13                       Sensor_alpha_Sensor_beta_sum   \n",
              "0                                        Sensor_alpha   \n",
              "30        Sensor_alpha_Sensor_beta_Sensor_beta_sumsum   \n",
              "17                 Sensor_beta_Sensor_alpha_plus_diff   \n",
              "28        Sensor_alpha_Sensor_beta_Sensor_beta_sumsum   \n",
              "32       Sensor_alpha_Sensor_alpha_Sensor_beta_sumsum   \n",
              "12                       Sensor_alpha_Sensor_beta_sum   \n",
              "6                                         Sensor_beta   \n",
              "2                                         Sensor_beta   \n",
              "16                 Sensor_alpha_Sensor_alpha_plus_sum   \n",
              "4                                         Sensor_beta   \n",
              "23                      Sensor_alpha_Sensor_beta_diff   \n",
              "1                                         Sensor_beta   \n",
              "\n",
              "                                                 var2      corr  \n",
              "41    Sensor_alpha_Sensor_alpha_Sensor_gamma_multdiff  1.000000  \n",
              "37  Sensor_alpha_Sensor_alpha_Sensor_alpha_plus_mu...  1.000000  \n",
              "27      Sensor_alpha_Sensor_beta_Sensor_gamma_summult  0.999988  \n",
              "25  Sensor_alpha_Sensor_beta_Sensor_alpha_plus_sum...  0.999988  \n",
              "26  Sensor_alpha_Sensor_gamma_Sensor_alpha_plus_su...  0.999987  \n",
              "43    Sensor_alpha_Sensor_alpha_Sensor_gamma_multdiff  0.999940  \n",
              "39  Sensor_alpha_Sensor_alpha_Sensor_gamma_plus_mu...  0.999940  \n",
              "42  Sensor_alpha_Sensor_alpha_Sensor_alpha_plus_mu...  0.999937  \n",
              "36  Sensor_alpha_Sensor_alpha_Sensor_gamma_plus_mu...  0.999937  \n",
              "44    Sensor_alpha_Sensor_alpha_Sensor_gamma_multdiff  0.999927  \n",
              "35     Sensor_alpha_Sensor_alpha_Sensor_gamma_multsum  0.999927  \n",
              "38    Sensor_alpha_Sensor_alpha_Sensor_gamma_multdiff  0.999927  \n",
              "40  Sensor_alpha_Sensor_alpha_Sensor_alpha_plus_mu...  0.999927  \n",
              "9         Sensor_alpha_Sensor_beta_Sensor_beta_sumsum  0.961414  \n",
              "21      Sensor_alpha_Sensor_beta_Sensor_beta_diffdiff  0.958469  \n",
              "14  Sensor_alpha_Sensor_alpha_plus_Sensor_alpha_pl...  0.955042  \n",
              "10       Sensor_alpha_Sensor_alpha_Sensor_beta_sumsum  0.945380  \n",
              "5         Sensor_alpha_Sensor_beta_Sensor_beta_sumsum  0.937908  \n",
              "8   Sensor_alpha_Sensor_alpha_plus_Sensor_alpha_pl...  0.925636  \n",
              "7       Sensor_alpha_Sensor_gamma_Sensor_gamma_sumsum  0.919583  \n",
              "18  Sensor_alpha_Sensor_beta_Sensor_alpha_plus_sum...  0.914604  \n",
              "29  Sensor_alpha_Sensor_beta_Sensor_alpha_plus_sum...  0.898043  \n",
              "34  Sensor_alpha_Sensor_beta_Sensor_alpha_plus_dif...  0.894775  \n",
              "11  Sensor_alpha_Sensor_beta_Sensor_alpha_plus_sum...  0.891621  \n",
              "22  Sensor_alpha_Sensor_beta_Sensor_alpha_plus_dif...  0.885972  \n",
              "3                  Sensor_beta_Sensor_alpha_plus_diff  0.881264  \n",
              "33  Sensor_alpha_Sensor_alpha_plus_Sensor_alpha_pl...  0.880640  \n",
              "31  Sensor_alpha_Sensor_beta_Sensor_alpha_plus_dif...  0.877271  \n",
              "20  Sensor_alpha_Sensor_gamma_Sensor_alpha_plus_su...  0.864502  \n",
              "24  Sensor_alpha_Sensor_beta_Sensor_gamma_plus_sum...  0.863596  \n",
              "19      Sensor_alpha_Sensor_beta_Sensor_gamma_sumdiff  0.861400  \n",
              "15  Sensor_alpha_Sensor_beta_Sensor_alpha_plus_dif...  0.861017  \n",
              "13  Sensor_alpha_Sensor_beta_Sensor_gamma_plus_sum...  0.859885  \n",
              "0        Sensor_alpha_Sensor_alpha_Sensor_beta_sumsum  0.834549  \n",
              "30  Sensor_alpha_Sensor_beta_Sensor_gamma_plus_sum...  0.829075  \n",
              "17        Sensor_alpha_Sensor_beta_Sensor_beta_sumsum  0.827846  \n",
              "28       Sensor_alpha_Sensor_alpha_Sensor_beta_sumsum  0.819224  \n",
              "32  Sensor_alpha_Sensor_beta_Sensor_gamma_plus_sum...  0.810110  \n",
              "12      Sensor_alpha_Sensor_beta_Sensor_gamma_sumdiff  0.807016  \n",
              "6   Sensor_alpha_Sensor_beta_Sensor_alpha_plus_sum...  0.806686  \n",
              "2                        Sensor_alpha_Sensor_beta_sum  0.806288  \n",
              "16  Sensor_alpha_Sensor_gamma_Sensor_alpha_plus_di...  0.803139  \n",
              "4                  Sensor_beta_Sensor_gamma_plus_diff  0.802764  \n",
              "23      Sensor_alpha_Sensor_beta_Sensor_gamma_diffsum  0.801695  \n",
              "1                    Sensor_beta_Sensor_beta_plus_sum  0.801676  "
            ],
            "text/html": [
              "\n",
              "  <div id=\"df-e998fec5-1565-4b20-a102-741f086a9071\">\n",
              "    <div class=\"colab-df-container\">\n",
              "      <div>\n",
              "<style scoped>\n",
              "    .dataframe tbody tr th:only-of-type {\n",
              "        vertical-align: middle;\n",
              "    }\n",
              "\n",
              "    .dataframe tbody tr th {\n",
              "        vertical-align: top;\n",
              "    }\n",
              "\n",
              "    .dataframe thead th {\n",
              "        text-align: right;\n",
              "    }\n",
              "</style>\n",
              "<table border=\"1\" class=\"dataframe\">\n",
              "  <thead>\n",
              "    <tr style=\"text-align: right;\">\n",
              "      <th></th>\n",
              "      <th>var1</th>\n",
              "      <th>var2</th>\n",
              "      <th>corr</th>\n",
              "    </tr>\n",
              "  </thead>\n",
              "  <tbody>\n",
              "    <tr>\n",
              "      <th>41</th>\n",
              "      <td>Sensor_alpha_Sensor_alpha_Sensor_gamma_multsum</td>\n",
              "      <td>Sensor_alpha_Sensor_alpha_Sensor_gamma_multdiff</td>\n",
              "      <td>1.000000</td>\n",
              "    </tr>\n",
              "    <tr>\n",
              "      <th>37</th>\n",
              "      <td>Sensor_alpha_Sensor_alpha_Sensor_alpha_plus_mu...</td>\n",
              "      <td>Sensor_alpha_Sensor_alpha_Sensor_alpha_plus_mu...</td>\n",
              "      <td>1.000000</td>\n",
              "    </tr>\n",
              "    <tr>\n",
              "      <th>27</th>\n",
              "      <td>Sensor_beta_Sensor_gamma_mult</td>\n",
              "      <td>Sensor_alpha_Sensor_beta_Sensor_gamma_summult</td>\n",
              "      <td>0.999988</td>\n",
              "    </tr>\n",
              "    <tr>\n",
              "      <th>25</th>\n",
              "      <td>Sensor_beta_Sensor_alpha_plus_mult</td>\n",
              "      <td>Sensor_alpha_Sensor_beta_Sensor_alpha_plus_sum...</td>\n",
              "      <td>0.999988</td>\n",
              "    </tr>\n",
              "    <tr>\n",
              "      <th>26</th>\n",
              "      <td>Sensor_gamma_Sensor_alpha_plus_mult</td>\n",
              "      <td>Sensor_alpha_Sensor_gamma_Sensor_alpha_plus_su...</td>\n",
              "      <td>0.999987</td>\n",
              "    </tr>\n",
              "    <tr>\n",
              "      <th>43</th>\n",
              "      <td>Sensor_alpha_Sensor_alpha_Sensor_gamma_plus_mu...</td>\n",
              "      <td>Sensor_alpha_Sensor_alpha_Sensor_gamma_multdiff</td>\n",
              "      <td>0.999940</td>\n",
              "    </tr>\n",
              "    <tr>\n",
              "      <th>39</th>\n",
              "      <td>Sensor_alpha_Sensor_alpha_Sensor_gamma_multsum</td>\n",
              "      <td>Sensor_alpha_Sensor_alpha_Sensor_gamma_plus_mu...</td>\n",
              "      <td>0.999940</td>\n",
              "    </tr>\n",
              "    <tr>\n",
              "      <th>42</th>\n",
              "      <td>Sensor_alpha_Sensor_alpha_Sensor_gamma_plus_mu...</td>\n",
              "      <td>Sensor_alpha_Sensor_alpha_Sensor_alpha_plus_mu...</td>\n",
              "      <td>0.999937</td>\n",
              "    </tr>\n",
              "    <tr>\n",
              "      <th>36</th>\n",
              "      <td>Sensor_alpha_Sensor_alpha_Sensor_alpha_plus_mu...</td>\n",
              "      <td>Sensor_alpha_Sensor_alpha_Sensor_gamma_plus_mu...</td>\n",
              "      <td>0.999937</td>\n",
              "    </tr>\n",
              "    <tr>\n",
              "      <th>44</th>\n",
              "      <td>Sensor_alpha_Sensor_alpha_Sensor_alpha_plus_mu...</td>\n",
              "      <td>Sensor_alpha_Sensor_alpha_Sensor_gamma_multdiff</td>\n",
              "      <td>0.999927</td>\n",
              "    </tr>\n",
              "    <tr>\n",
              "      <th>35</th>\n",
              "      <td>Sensor_alpha_Sensor_alpha_Sensor_alpha_plus_mu...</td>\n",
              "      <td>Sensor_alpha_Sensor_alpha_Sensor_gamma_multsum</td>\n",
              "      <td>0.999927</td>\n",
              "    </tr>\n",
              "    <tr>\n",
              "      <th>38</th>\n",
              "      <td>Sensor_alpha_Sensor_alpha_Sensor_alpha_plus_mu...</td>\n",
              "      <td>Sensor_alpha_Sensor_alpha_Sensor_gamma_multdiff</td>\n",
              "      <td>0.999927</td>\n",
              "    </tr>\n",
              "    <tr>\n",
              "      <th>40</th>\n",
              "      <td>Sensor_alpha_Sensor_alpha_Sensor_gamma_multsum</td>\n",
              "      <td>Sensor_alpha_Sensor_alpha_Sensor_alpha_plus_mu...</td>\n",
              "      <td>0.999927</td>\n",
              "    </tr>\n",
              "    <tr>\n",
              "      <th>9</th>\n",
              "      <td>Sensor_alpha_Sensor_beta_sum</td>\n",
              "      <td>Sensor_alpha_Sensor_beta_Sensor_beta_sumsum</td>\n",
              "      <td>0.961414</td>\n",
              "    </tr>\n",
              "    <tr>\n",
              "      <th>21</th>\n",
              "      <td>Sensor_alpha_Sensor_beta_diff</td>\n",
              "      <td>Sensor_alpha_Sensor_beta_Sensor_beta_diffdiff</td>\n",
              "      <td>0.958469</td>\n",
              "    </tr>\n",
              "    <tr>\n",
              "      <th>14</th>\n",
              "      <td>Sensor_alpha_Sensor_alpha_plus_sum</td>\n",
              "      <td>Sensor_alpha_Sensor_alpha_plus_Sensor_alpha_pl...</td>\n",
              "      <td>0.955042</td>\n",
              "    </tr>\n",
              "    <tr>\n",
              "      <th>10</th>\n",
              "      <td>Sensor_alpha_Sensor_beta_sum</td>\n",
              "      <td>Sensor_alpha_Sensor_alpha_Sensor_beta_sumsum</td>\n",
              "      <td>0.945380</td>\n",
              "    </tr>\n",
              "    <tr>\n",
              "      <th>5</th>\n",
              "      <td>Sensor_beta</td>\n",
              "      <td>Sensor_alpha_Sensor_beta_Sensor_beta_sumsum</td>\n",
              "      <td>0.937908</td>\n",
              "    </tr>\n",
              "    <tr>\n",
              "      <th>8</th>\n",
              "      <td>Sensor_alpha_plus</td>\n",
              "      <td>Sensor_alpha_Sensor_alpha_plus_Sensor_alpha_pl...</td>\n",
              "      <td>0.925636</td>\n",
              "    </tr>\n",
              "    <tr>\n",
              "      <th>7</th>\n",
              "      <td>Sensor_gamma</td>\n",
              "      <td>Sensor_alpha_Sensor_gamma_Sensor_gamma_sumsum</td>\n",
              "      <td>0.919583</td>\n",
              "    </tr>\n",
              "    <tr>\n",
              "      <th>18</th>\n",
              "      <td>Sensor_beta_Sensor_alpha_plus_diff</td>\n",
              "      <td>Sensor_alpha_Sensor_beta_Sensor_alpha_plus_sum...</td>\n",
              "      <td>0.914604</td>\n",
              "    </tr>\n",
              "    <tr>\n",
              "      <th>29</th>\n",
              "      <td>Sensor_alpha_Sensor_beta_Sensor_beta_sumsum</td>\n",
              "      <td>Sensor_alpha_Sensor_beta_Sensor_alpha_plus_sum...</td>\n",
              "      <td>0.898043</td>\n",
              "    </tr>\n",
              "    <tr>\n",
              "      <th>34</th>\n",
              "      <td>Sensor_alpha_Sensor_beta_Sensor_beta_diffdiff</td>\n",
              "      <td>Sensor_alpha_Sensor_beta_Sensor_alpha_plus_dif...</td>\n",
              "      <td>0.894775</td>\n",
              "    </tr>\n",
              "    <tr>\n",
              "      <th>11</th>\n",
              "      <td>Sensor_alpha_Sensor_beta_sum</td>\n",
              "      <td>Sensor_alpha_Sensor_beta_Sensor_alpha_plus_sum...</td>\n",
              "      <td>0.891621</td>\n",
              "    </tr>\n",
              "    <tr>\n",
              "      <th>22</th>\n",
              "      <td>Sensor_alpha_Sensor_beta_diff</td>\n",
              "      <td>Sensor_alpha_Sensor_beta_Sensor_alpha_plus_dif...</td>\n",
              "      <td>0.885972</td>\n",
              "    </tr>\n",
              "    <tr>\n",
              "      <th>3</th>\n",
              "      <td>Sensor_beta</td>\n",
              "      <td>Sensor_beta_Sensor_alpha_plus_diff</td>\n",
              "      <td>0.881264</td>\n",
              "    </tr>\n",
              "    <tr>\n",
              "      <th>33</th>\n",
              "      <td>Sensor_alpha_Sensor_beta_Sensor_alpha_plus_sum...</td>\n",
              "      <td>Sensor_alpha_Sensor_alpha_plus_Sensor_alpha_pl...</td>\n",
              "      <td>0.880640</td>\n",
              "    </tr>\n",
              "    <tr>\n",
              "      <th>31</th>\n",
              "      <td>Sensor_alpha_Sensor_alpha_plus_Sensor_alpha_pl...</td>\n",
              "      <td>Sensor_alpha_Sensor_beta_Sensor_alpha_plus_dif...</td>\n",
              "      <td>0.877271</td>\n",
              "    </tr>\n",
              "    <tr>\n",
              "      <th>20</th>\n",
              "      <td>Sensor_gamma_Sensor_alpha_plus_diff</td>\n",
              "      <td>Sensor_alpha_Sensor_gamma_Sensor_alpha_plus_su...</td>\n",
              "      <td>0.864502</td>\n",
              "    </tr>\n",
              "    <tr>\n",
              "      <th>24</th>\n",
              "      <td>Sensor_beta_Sensor_gamma_plus_diff</td>\n",
              "      <td>Sensor_alpha_Sensor_beta_Sensor_gamma_plus_sum...</td>\n",
              "      <td>0.863596</td>\n",
              "    </tr>\n",
              "    <tr>\n",
              "      <th>19</th>\n",
              "      <td>Sensor_beta_Sensor_gamma_diff</td>\n",
              "      <td>Sensor_alpha_Sensor_beta_Sensor_gamma_sumdiff</td>\n",
              "      <td>0.861400</td>\n",
              "    </tr>\n",
              "    <tr>\n",
              "      <th>15</th>\n",
              "      <td>Sensor_alpha_Sensor_alpha_plus_sum</td>\n",
              "      <td>Sensor_alpha_Sensor_beta_Sensor_alpha_plus_dif...</td>\n",
              "      <td>0.861017</td>\n",
              "    </tr>\n",
              "    <tr>\n",
              "      <th>13</th>\n",
              "      <td>Sensor_alpha_Sensor_beta_sum</td>\n",
              "      <td>Sensor_alpha_Sensor_beta_Sensor_gamma_plus_sum...</td>\n",
              "      <td>0.859885</td>\n",
              "    </tr>\n",
              "    <tr>\n",
              "      <th>0</th>\n",
              "      <td>Sensor_alpha</td>\n",
              "      <td>Sensor_alpha_Sensor_alpha_Sensor_beta_sumsum</td>\n",
              "      <td>0.834549</td>\n",
              "    </tr>\n",
              "    <tr>\n",
              "      <th>30</th>\n",
              "      <td>Sensor_alpha_Sensor_beta_Sensor_beta_sumsum</td>\n",
              "      <td>Sensor_alpha_Sensor_beta_Sensor_gamma_plus_sum...</td>\n",
              "      <td>0.829075</td>\n",
              "    </tr>\n",
              "    <tr>\n",
              "      <th>17</th>\n",
              "      <td>Sensor_beta_Sensor_alpha_plus_diff</td>\n",
              "      <td>Sensor_alpha_Sensor_beta_Sensor_beta_sumsum</td>\n",
              "      <td>0.827846</td>\n",
              "    </tr>\n",
              "    <tr>\n",
              "      <th>28</th>\n",
              "      <td>Sensor_alpha_Sensor_beta_Sensor_beta_sumsum</td>\n",
              "      <td>Sensor_alpha_Sensor_alpha_Sensor_beta_sumsum</td>\n",
              "      <td>0.819224</td>\n",
              "    </tr>\n",
              "    <tr>\n",
              "      <th>32</th>\n",
              "      <td>Sensor_alpha_Sensor_alpha_Sensor_beta_sumsum</td>\n",
              "      <td>Sensor_alpha_Sensor_beta_Sensor_gamma_plus_sum...</td>\n",
              "      <td>0.810110</td>\n",
              "    </tr>\n",
              "    <tr>\n",
              "      <th>12</th>\n",
              "      <td>Sensor_alpha_Sensor_beta_sum</td>\n",
              "      <td>Sensor_alpha_Sensor_beta_Sensor_gamma_sumdiff</td>\n",
              "      <td>0.807016</td>\n",
              "    </tr>\n",
              "    <tr>\n",
              "      <th>6</th>\n",
              "      <td>Sensor_beta</td>\n",
              "      <td>Sensor_alpha_Sensor_beta_Sensor_alpha_plus_sum...</td>\n",
              "      <td>0.806686</td>\n",
              "    </tr>\n",
              "    <tr>\n",
              "      <th>2</th>\n",
              "      <td>Sensor_beta</td>\n",
              "      <td>Sensor_alpha_Sensor_beta_sum</td>\n",
              "      <td>0.806288</td>\n",
              "    </tr>\n",
              "    <tr>\n",
              "      <th>16</th>\n",
              "      <td>Sensor_alpha_Sensor_alpha_plus_sum</td>\n",
              "      <td>Sensor_alpha_Sensor_gamma_Sensor_alpha_plus_di...</td>\n",
              "      <td>0.803139</td>\n",
              "    </tr>\n",
              "    <tr>\n",
              "      <th>4</th>\n",
              "      <td>Sensor_beta</td>\n",
              "      <td>Sensor_beta_Sensor_gamma_plus_diff</td>\n",
              "      <td>0.802764</td>\n",
              "    </tr>\n",
              "    <tr>\n",
              "      <th>23</th>\n",
              "      <td>Sensor_alpha_Sensor_beta_diff</td>\n",
              "      <td>Sensor_alpha_Sensor_beta_Sensor_gamma_diffsum</td>\n",
              "      <td>0.801695</td>\n",
              "    </tr>\n",
              "    <tr>\n",
              "      <th>1</th>\n",
              "      <td>Sensor_beta</td>\n",
              "      <td>Sensor_beta_Sensor_beta_plus_sum</td>\n",
              "      <td>0.801676</td>\n",
              "    </tr>\n",
              "  </tbody>\n",
              "</table>\n",
              "</div>\n",
              "      <button class=\"colab-df-convert\" onclick=\"convertToInteractive('df-e998fec5-1565-4b20-a102-741f086a9071')\"\n",
              "              title=\"Convert this dataframe to an interactive table.\"\n",
              "              style=\"display:none;\">\n",
              "        \n",
              "  <svg xmlns=\"http://www.w3.org/2000/svg\" height=\"24px\"viewBox=\"0 0 24 24\"\n",
              "       width=\"24px\">\n",
              "    <path d=\"M0 0h24v24H0V0z\" fill=\"none\"/>\n",
              "    <path d=\"M18.56 5.44l.94 2.06.94-2.06 2.06-.94-2.06-.94-.94-2.06-.94 2.06-2.06.94zm-11 1L8.5 8.5l.94-2.06 2.06-.94-2.06-.94L8.5 2.5l-.94 2.06-2.06.94zm10 10l.94 2.06.94-2.06 2.06-.94-2.06-.94-.94-2.06-.94 2.06-2.06.94z\"/><path d=\"M17.41 7.96l-1.37-1.37c-.4-.4-.92-.59-1.43-.59-.52 0-1.04.2-1.43.59L10.3 9.45l-7.72 7.72c-.78.78-.78 2.05 0 2.83L4 21.41c.39.39.9.59 1.41.59.51 0 1.02-.2 1.41-.59l7.78-7.78 2.81-2.81c.8-.78.8-2.07 0-2.86zM5.41 20L4 18.59l7.72-7.72 1.47 1.35L5.41 20z\"/>\n",
              "  </svg>\n",
              "      </button>\n",
              "      \n",
              "  <style>\n",
              "    .colab-df-container {\n",
              "      display:flex;\n",
              "      flex-wrap:wrap;\n",
              "      gap: 12px;\n",
              "    }\n",
              "\n",
              "    .colab-df-convert {\n",
              "      background-color: #E8F0FE;\n",
              "      border: none;\n",
              "      border-radius: 50%;\n",
              "      cursor: pointer;\n",
              "      display: none;\n",
              "      fill: #1967D2;\n",
              "      height: 32px;\n",
              "      padding: 0 0 0 0;\n",
              "      width: 32px;\n",
              "    }\n",
              "\n",
              "    .colab-df-convert:hover {\n",
              "      background-color: #E2EBFA;\n",
              "      box-shadow: 0px 1px 2px rgba(60, 64, 67, 0.3), 0px 1px 3px 1px rgba(60, 64, 67, 0.15);\n",
              "      fill: #174EA6;\n",
              "    }\n",
              "\n",
              "    [theme=dark] .colab-df-convert {\n",
              "      background-color: #3B4455;\n",
              "      fill: #D2E3FC;\n",
              "    }\n",
              "\n",
              "    [theme=dark] .colab-df-convert:hover {\n",
              "      background-color: #434B5C;\n",
              "      box-shadow: 0px 1px 3px 1px rgba(0, 0, 0, 0.15);\n",
              "      filter: drop-shadow(0px 1px 2px rgba(0, 0, 0, 0.3));\n",
              "      fill: #FFFFFF;\n",
              "    }\n",
              "  </style>\n",
              "\n",
              "      <script>\n",
              "        const buttonEl =\n",
              "          document.querySelector('#df-e998fec5-1565-4b20-a102-741f086a9071 button.colab-df-convert');\n",
              "        buttonEl.style.display =\n",
              "          google.colab.kernel.accessAllowed ? 'block' : 'none';\n",
              "\n",
              "        async function convertToInteractive(key) {\n",
              "          const element = document.querySelector('#df-e998fec5-1565-4b20-a102-741f086a9071');\n",
              "          const dataTable =\n",
              "            await google.colab.kernel.invokeFunction('convertToInteractive',\n",
              "                                                     [key], {});\n",
              "          if (!dataTable) return;\n",
              "\n",
              "          const docLinkHtml = 'Like what you see? Visit the ' +\n",
              "            '<a target=\"_blank\" href=https://colab.research.google.com/notebooks/data_table.ipynb>data table notebook</a>'\n",
              "            + ' to learn more about interactive tables.';\n",
              "          element.innerHTML = '';\n",
              "          dataTable['output_type'] = 'display_data';\n",
              "          await google.colab.output.renderOutput(dataTable, element);\n",
              "          const docLink = document.createElement('div');\n",
              "          docLink.innerHTML = docLinkHtml;\n",
              "          element.appendChild(docLink);\n",
              "        }\n",
              "      </script>\n",
              "    </div>\n",
              "  </div>\n",
              "  "
            ]
          },
          "metadata": {},
          "execution_count": 25
        }
      ]
    },
    {
      "cell_type": "code",
      "source": [
        "# Drop features with high correlation \n",
        "for col in high_corr_df[(high_corr_df['corr'] >= 0.92) | (high_corr_df['corr'] <= -0.92)]['var2']:\n",
        "    try:\n",
        "        del train_df[col]\n",
        "    except:\n",
        "        pass"
      ],
      "metadata": {
        "id": "83RNTUN_EqcG"
      },
      "execution_count": 26,
      "outputs": []
    },
    {
      "cell_type": "code",
      "source": [
        "high_corr_df = pd.DataFrame()\n",
        "visit_cols = list(train_df.select_dtypes(include=np.number).columns)\n",
        "\n",
        "for x in train_df.select_dtypes(include=np.number).columns:\n",
        "    for y in visit_cols:\n",
        "        if x != y:\n",
        "            if np.array(train_df[[x,y]].corr())[0,1] > 0.8:\n",
        "                high_corr_df = high_corr_df.append({'var1':x, 'var2':y, 'corr':np.array(train_df[[x,y]].corr())[0,1]}, ignore_index=True)\n",
        "    visit_cols.remove(x)\n",
        "\n",
        "high_corr_df.sort_values('corr', ascending=False)"
      ],
      "metadata": {
        "colab": {
          "base_uri": "https://localhost:8080/",
          "height": 614
        },
        "id": "WQPAgScrFKfA",
        "outputId": "c71382e6-fa7b-40b4-b25f-ee6924ebbedf"
      },
      "execution_count": 27,
      "outputs": [
        {
          "output_type": "execute_result",
          "data": {
            "text/plain": [
              "                                                 var1  \\\n",
              "5                                        Sensor_gamma   \n",
              "11                 Sensor_beta_Sensor_alpha_plus_diff   \n",
              "6                        Sensor_alpha_Sensor_beta_sum   \n",
              "14                      Sensor_alpha_Sensor_beta_diff   \n",
              "2                                         Sensor_beta   \n",
              "17  Sensor_alpha_Sensor_beta_Sensor_alpha_plus_sum...   \n",
              "13                Sensor_gamma_Sensor_alpha_plus_diff   \n",
              "16                 Sensor_beta_Sensor_gamma_plus_diff   \n",
              "12                      Sensor_beta_Sensor_gamma_diff   \n",
              "9                  Sensor_alpha_Sensor_alpha_plus_sum   \n",
              "8                        Sensor_alpha_Sensor_beta_sum   \n",
              "7                        Sensor_alpha_Sensor_beta_sum   \n",
              "4                                         Sensor_beta   \n",
              "1                                         Sensor_beta   \n",
              "10                 Sensor_alpha_Sensor_alpha_plus_sum   \n",
              "3                                         Sensor_beta   \n",
              "15                      Sensor_alpha_Sensor_beta_diff   \n",
              "0                                         Sensor_beta   \n",
              "\n",
              "                                                 var2      corr  \n",
              "5       Sensor_alpha_Sensor_gamma_Sensor_gamma_sumsum  0.919583  \n",
              "11  Sensor_alpha_Sensor_beta_Sensor_alpha_plus_sum...  0.914604  \n",
              "6   Sensor_alpha_Sensor_beta_Sensor_alpha_plus_sum...  0.891621  \n",
              "14  Sensor_alpha_Sensor_beta_Sensor_alpha_plus_dif...  0.885972  \n",
              "2                  Sensor_beta_Sensor_alpha_plus_diff  0.881264  \n",
              "17  Sensor_alpha_Sensor_alpha_plus_Sensor_alpha_pl...  0.880640  \n",
              "13  Sensor_alpha_Sensor_gamma_Sensor_alpha_plus_su...  0.864502  \n",
              "16  Sensor_alpha_Sensor_beta_Sensor_gamma_plus_sum...  0.863596  \n",
              "12      Sensor_alpha_Sensor_beta_Sensor_gamma_sumdiff  0.861400  \n",
              "9   Sensor_alpha_Sensor_beta_Sensor_alpha_plus_dif...  0.861017  \n",
              "8   Sensor_alpha_Sensor_beta_Sensor_gamma_plus_sum...  0.859885  \n",
              "7       Sensor_alpha_Sensor_beta_Sensor_gamma_sumdiff  0.807016  \n",
              "4   Sensor_alpha_Sensor_beta_Sensor_alpha_plus_sum...  0.806686  \n",
              "1                        Sensor_alpha_Sensor_beta_sum  0.806288  \n",
              "10  Sensor_alpha_Sensor_gamma_Sensor_alpha_plus_di...  0.803139  \n",
              "3                  Sensor_beta_Sensor_gamma_plus_diff  0.802764  \n",
              "15      Sensor_alpha_Sensor_beta_Sensor_gamma_diffsum  0.801695  \n",
              "0                    Sensor_beta_Sensor_beta_plus_sum  0.801676  "
            ],
            "text/html": [
              "\n",
              "  <div id=\"df-e097923a-8ef2-41b8-9e65-53cbc2fcddad\">\n",
              "    <div class=\"colab-df-container\">\n",
              "      <div>\n",
              "<style scoped>\n",
              "    .dataframe tbody tr th:only-of-type {\n",
              "        vertical-align: middle;\n",
              "    }\n",
              "\n",
              "    .dataframe tbody tr th {\n",
              "        vertical-align: top;\n",
              "    }\n",
              "\n",
              "    .dataframe thead th {\n",
              "        text-align: right;\n",
              "    }\n",
              "</style>\n",
              "<table border=\"1\" class=\"dataframe\">\n",
              "  <thead>\n",
              "    <tr style=\"text-align: right;\">\n",
              "      <th></th>\n",
              "      <th>var1</th>\n",
              "      <th>var2</th>\n",
              "      <th>corr</th>\n",
              "    </tr>\n",
              "  </thead>\n",
              "  <tbody>\n",
              "    <tr>\n",
              "      <th>5</th>\n",
              "      <td>Sensor_gamma</td>\n",
              "      <td>Sensor_alpha_Sensor_gamma_Sensor_gamma_sumsum</td>\n",
              "      <td>0.919583</td>\n",
              "    </tr>\n",
              "    <tr>\n",
              "      <th>11</th>\n",
              "      <td>Sensor_beta_Sensor_alpha_plus_diff</td>\n",
              "      <td>Sensor_alpha_Sensor_beta_Sensor_alpha_plus_sum...</td>\n",
              "      <td>0.914604</td>\n",
              "    </tr>\n",
              "    <tr>\n",
              "      <th>6</th>\n",
              "      <td>Sensor_alpha_Sensor_beta_sum</td>\n",
              "      <td>Sensor_alpha_Sensor_beta_Sensor_alpha_plus_sum...</td>\n",
              "      <td>0.891621</td>\n",
              "    </tr>\n",
              "    <tr>\n",
              "      <th>14</th>\n",
              "      <td>Sensor_alpha_Sensor_beta_diff</td>\n",
              "      <td>Sensor_alpha_Sensor_beta_Sensor_alpha_plus_dif...</td>\n",
              "      <td>0.885972</td>\n",
              "    </tr>\n",
              "    <tr>\n",
              "      <th>2</th>\n",
              "      <td>Sensor_beta</td>\n",
              "      <td>Sensor_beta_Sensor_alpha_plus_diff</td>\n",
              "      <td>0.881264</td>\n",
              "    </tr>\n",
              "    <tr>\n",
              "      <th>17</th>\n",
              "      <td>Sensor_alpha_Sensor_beta_Sensor_alpha_plus_sum...</td>\n",
              "      <td>Sensor_alpha_Sensor_alpha_plus_Sensor_alpha_pl...</td>\n",
              "      <td>0.880640</td>\n",
              "    </tr>\n",
              "    <tr>\n",
              "      <th>13</th>\n",
              "      <td>Sensor_gamma_Sensor_alpha_plus_diff</td>\n",
              "      <td>Sensor_alpha_Sensor_gamma_Sensor_alpha_plus_su...</td>\n",
              "      <td>0.864502</td>\n",
              "    </tr>\n",
              "    <tr>\n",
              "      <th>16</th>\n",
              "      <td>Sensor_beta_Sensor_gamma_plus_diff</td>\n",
              "      <td>Sensor_alpha_Sensor_beta_Sensor_gamma_plus_sum...</td>\n",
              "      <td>0.863596</td>\n",
              "    </tr>\n",
              "    <tr>\n",
              "      <th>12</th>\n",
              "      <td>Sensor_beta_Sensor_gamma_diff</td>\n",
              "      <td>Sensor_alpha_Sensor_beta_Sensor_gamma_sumdiff</td>\n",
              "      <td>0.861400</td>\n",
              "    </tr>\n",
              "    <tr>\n",
              "      <th>9</th>\n",
              "      <td>Sensor_alpha_Sensor_alpha_plus_sum</td>\n",
              "      <td>Sensor_alpha_Sensor_beta_Sensor_alpha_plus_dif...</td>\n",
              "      <td>0.861017</td>\n",
              "    </tr>\n",
              "    <tr>\n",
              "      <th>8</th>\n",
              "      <td>Sensor_alpha_Sensor_beta_sum</td>\n",
              "      <td>Sensor_alpha_Sensor_beta_Sensor_gamma_plus_sum...</td>\n",
              "      <td>0.859885</td>\n",
              "    </tr>\n",
              "    <tr>\n",
              "      <th>7</th>\n",
              "      <td>Sensor_alpha_Sensor_beta_sum</td>\n",
              "      <td>Sensor_alpha_Sensor_beta_Sensor_gamma_sumdiff</td>\n",
              "      <td>0.807016</td>\n",
              "    </tr>\n",
              "    <tr>\n",
              "      <th>4</th>\n",
              "      <td>Sensor_beta</td>\n",
              "      <td>Sensor_alpha_Sensor_beta_Sensor_alpha_plus_sum...</td>\n",
              "      <td>0.806686</td>\n",
              "    </tr>\n",
              "    <tr>\n",
              "      <th>1</th>\n",
              "      <td>Sensor_beta</td>\n",
              "      <td>Sensor_alpha_Sensor_beta_sum</td>\n",
              "      <td>0.806288</td>\n",
              "    </tr>\n",
              "    <tr>\n",
              "      <th>10</th>\n",
              "      <td>Sensor_alpha_Sensor_alpha_plus_sum</td>\n",
              "      <td>Sensor_alpha_Sensor_gamma_Sensor_alpha_plus_di...</td>\n",
              "      <td>0.803139</td>\n",
              "    </tr>\n",
              "    <tr>\n",
              "      <th>3</th>\n",
              "      <td>Sensor_beta</td>\n",
              "      <td>Sensor_beta_Sensor_gamma_plus_diff</td>\n",
              "      <td>0.802764</td>\n",
              "    </tr>\n",
              "    <tr>\n",
              "      <th>15</th>\n",
              "      <td>Sensor_alpha_Sensor_beta_diff</td>\n",
              "      <td>Sensor_alpha_Sensor_beta_Sensor_gamma_diffsum</td>\n",
              "      <td>0.801695</td>\n",
              "    </tr>\n",
              "    <tr>\n",
              "      <th>0</th>\n",
              "      <td>Sensor_beta</td>\n",
              "      <td>Sensor_beta_Sensor_beta_plus_sum</td>\n",
              "      <td>0.801676</td>\n",
              "    </tr>\n",
              "  </tbody>\n",
              "</table>\n",
              "</div>\n",
              "      <button class=\"colab-df-convert\" onclick=\"convertToInteractive('df-e097923a-8ef2-41b8-9e65-53cbc2fcddad')\"\n",
              "              title=\"Convert this dataframe to an interactive table.\"\n",
              "              style=\"display:none;\">\n",
              "        \n",
              "  <svg xmlns=\"http://www.w3.org/2000/svg\" height=\"24px\"viewBox=\"0 0 24 24\"\n",
              "       width=\"24px\">\n",
              "    <path d=\"M0 0h24v24H0V0z\" fill=\"none\"/>\n",
              "    <path d=\"M18.56 5.44l.94 2.06.94-2.06 2.06-.94-2.06-.94-.94-2.06-.94 2.06-2.06.94zm-11 1L8.5 8.5l.94-2.06 2.06-.94-2.06-.94L8.5 2.5l-.94 2.06-2.06.94zm10 10l.94 2.06.94-2.06 2.06-.94-2.06-.94-.94-2.06-.94 2.06-2.06.94z\"/><path d=\"M17.41 7.96l-1.37-1.37c-.4-.4-.92-.59-1.43-.59-.52 0-1.04.2-1.43.59L10.3 9.45l-7.72 7.72c-.78.78-.78 2.05 0 2.83L4 21.41c.39.39.9.59 1.41.59.51 0 1.02-.2 1.41-.59l7.78-7.78 2.81-2.81c.8-.78.8-2.07 0-2.86zM5.41 20L4 18.59l7.72-7.72 1.47 1.35L5.41 20z\"/>\n",
              "  </svg>\n",
              "      </button>\n",
              "      \n",
              "  <style>\n",
              "    .colab-df-container {\n",
              "      display:flex;\n",
              "      flex-wrap:wrap;\n",
              "      gap: 12px;\n",
              "    }\n",
              "\n",
              "    .colab-df-convert {\n",
              "      background-color: #E8F0FE;\n",
              "      border: none;\n",
              "      border-radius: 50%;\n",
              "      cursor: pointer;\n",
              "      display: none;\n",
              "      fill: #1967D2;\n",
              "      height: 32px;\n",
              "      padding: 0 0 0 0;\n",
              "      width: 32px;\n",
              "    }\n",
              "\n",
              "    .colab-df-convert:hover {\n",
              "      background-color: #E2EBFA;\n",
              "      box-shadow: 0px 1px 2px rgba(60, 64, 67, 0.3), 0px 1px 3px 1px rgba(60, 64, 67, 0.15);\n",
              "      fill: #174EA6;\n",
              "    }\n",
              "\n",
              "    [theme=dark] .colab-df-convert {\n",
              "      background-color: #3B4455;\n",
              "      fill: #D2E3FC;\n",
              "    }\n",
              "\n",
              "    [theme=dark] .colab-df-convert:hover {\n",
              "      background-color: #434B5C;\n",
              "      box-shadow: 0px 1px 3px 1px rgba(0, 0, 0, 0.15);\n",
              "      filter: drop-shadow(0px 1px 2px rgba(0, 0, 0, 0.3));\n",
              "      fill: #FFFFFF;\n",
              "    }\n",
              "  </style>\n",
              "\n",
              "      <script>\n",
              "        const buttonEl =\n",
              "          document.querySelector('#df-e097923a-8ef2-41b8-9e65-53cbc2fcddad button.colab-df-convert');\n",
              "        buttonEl.style.display =\n",
              "          google.colab.kernel.accessAllowed ? 'block' : 'none';\n",
              "\n",
              "        async function convertToInteractive(key) {\n",
              "          const element = document.querySelector('#df-e097923a-8ef2-41b8-9e65-53cbc2fcddad');\n",
              "          const dataTable =\n",
              "            await google.colab.kernel.invokeFunction('convertToInteractive',\n",
              "                                                     [key], {});\n",
              "          if (!dataTable) return;\n",
              "\n",
              "          const docLinkHtml = 'Like what you see? Visit the ' +\n",
              "            '<a target=\"_blank\" href=https://colab.research.google.com/notebooks/data_table.ipynb>data table notebook</a>'\n",
              "            + ' to learn more about interactive tables.';\n",
              "          element.innerHTML = '';\n",
              "          dataTable['output_type'] = 'display_data';\n",
              "          await google.colab.output.renderOutput(dataTable, element);\n",
              "          const docLink = document.createElement('div');\n",
              "          docLink.innerHTML = docLinkHtml;\n",
              "          element.appendChild(docLink);\n",
              "        }\n",
              "      </script>\n",
              "    </div>\n",
              "  </div>\n",
              "  "
            ]
          },
          "metadata": {},
          "execution_count": 27
        }
      ]
    },
    {
      "cell_type": "markdown",
      "source": [
        "## Train Test split\n",
        "\n",
        "Dividimos el dataset en 2 partes: train y test.\n",
        "El dataset en train se utilizará para entrenar el modelo. Y el dataset de test se utilizará para observar que tan buen performance tiene el modelo ante datos que no ha visto. "
      ],
      "metadata": {
        "id": "NeYn1yi9no1m"
      }
    },
    {
      "cell_type": "code",
      "source": [
        "train_df.shape"
      ],
      "metadata": {
        "colab": {
          "base_uri": "https://localhost:8080/"
        },
        "id": "vG9VbLQQFgJi",
        "outputId": "4e0908f5-35f2-49db-c141-bde4f20ad7f5"
      },
      "execution_count": 28,
      "outputs": [
        {
          "output_type": "execute_result",
          "data": {
            "text/plain": [
              "(7001, 45)"
            ]
          },
          "metadata": {},
          "execution_count": 28
        }
      ]
    },
    {
      "cell_type": "code",
      "source": [
        "features = list(train_df.columns)\n",
        "features.remove(TARGET)\n",
        "n_features = len(features)"
      ],
      "metadata": {
        "id": "wTHXYsHvItLe"
      },
      "execution_count": 29,
      "outputs": []
    },
    {
      "cell_type": "code",
      "source": [
        "X = train_df[features]\n",
        "y = train_df[TARGET]"
      ],
      "metadata": {
        "id": "_bXcnDHkIoCx"
      },
      "execution_count": 30,
      "outputs": []
    },
    {
      "cell_type": "code",
      "source": [
        "# Split into train/test\n",
        "X_train, X_test, y_train, y_test = train_test_split(\n",
        "    X, y, test_size=0.2, stratify=y, random_state=random_state)\n",
        "\n",
        "n_classes = len(np.unique(y))"
      ],
      "metadata": {
        "id": "ornE2j42Ijn8"
      },
      "execution_count": 31,
      "outputs": []
    },
    {
      "cell_type": "code",
      "source": [
        "print(X_train.shape)\n",
        "print(X_test.shape)"
      ],
      "metadata": {
        "colab": {
          "base_uri": "https://localhost:8080/"
        },
        "id": "ZseXUsz6JG2d",
        "outputId": "acafa272-907f-495b-8d16-4723295de8d3"
      },
      "execution_count": 32,
      "outputs": [
        {
          "output_type": "stream",
          "name": "stdout",
          "text": [
            "(5600, 44)\n",
            "(1401, 44)\n"
          ]
        }
      ]
    },
    {
      "cell_type": "markdown",
      "source": [
        "# Selección del modelo"
      ],
      "metadata": {
        "id": "7E0xZOFbn-Nu"
      }
    },
    {
      "cell_type": "markdown",
      "source": [
        "## Support Vector Machines (SVM)\n"
      ],
      "metadata": {
        "id": "GRI_ALPtszA6"
      }
    },
    {
      "cell_type": "code",
      "source": [
        "X_train_norm = X_train.copy(deep=True)\n",
        "X_test_norm = X_test.copy(deep=True)\n",
        "\n",
        "for col in X_train.columns:\n",
        "    sc = StandardScaler()\n",
        "    X_train_norm[col] = sc.fit_transform(X_train_norm[[col]])\n",
        "    X_test_norm[col] = sc.transform(X_test_norm[[col]])"
      ],
      "metadata": {
        "id": "8LSOWTuztp_q"
      },
      "execution_count": 33,
      "outputs": []
    },
    {
      "cell_type": "code",
      "source": [
        "svm = SVC()\n",
        "svm.fit(X_train_norm, y_train)\n",
        "\n",
        "y_pred_train = svm.predict(X_train_norm)\n",
        "y_pred_test = svm.predict(X_test_norm)\n",
        "    \n",
        "# Compute the nearest neighbor accuracy on the embedded test set\n",
        "print('PCA')\n",
        "print(\"TRAIN:\", f1_score(y_train, y_pred_train, average='macro'))\n",
        "print(\"TEST:\", f1_score(y_test, y_pred_test, average='macro'))"
      ],
      "metadata": {
        "colab": {
          "base_uri": "https://localhost:8080/"
        },
        "id": "JQWMWiyls7eN",
        "outputId": "0679f92d-fc60-41c7-9e96-a02ab398b7ec"
      },
      "execution_count": 34,
      "outputs": [
        {
          "output_type": "stream",
          "name": "stdout",
          "text": [
            "PCA\n",
            "TRAIN: 0.788489616240866\n",
            "TEST: 0.756365856741191\n"
          ]
        }
      ]
    },
    {
      "cell_type": "markdown",
      "source": [
        "## PCA-KNN\n",
        "\n",
        "Se ha entrenado considerando los valores de los 3 vecinos más próximos."
      ],
      "metadata": {
        "id": "FGUDc_-9IAiL"
      }
    },
    {
      "cell_type": "code",
      "source": [
        "n_neighbors = 3\n",
        "\n",
        "# Reduce dimension to 2 with PCA\n",
        "pca = make_pipeline(StandardScaler(), PCA(n_components=20, random_state=random_state))\n",
        "\n",
        "# Reduce dimension to 2 with LinearDiscriminantAnalysis\n",
        "lda = make_pipeline(StandardScaler(), LinearDiscriminantAnalysis(n_components=2))\n",
        "\n",
        "# Reduce dimension to 2 with NeighborhoodComponentAnalysis\n",
        "nca = make_pipeline(\n",
        "    StandardScaler(),\n",
        "    NeighborhoodComponentsAnalysis(n_components=3, random_state=random_state),\n",
        ")"
      ],
      "metadata": {
        "id": "Dh6wEpd_IHRv"
      },
      "execution_count": 35,
      "outputs": []
    },
    {
      "cell_type": "code",
      "source": [
        "# Use a nearest neighbor classifier to evaluate the methods\n",
        "pca_knn = KNeighborsClassifier(n_neighbors=n_neighbors)\n",
        "\n",
        "pca.fit(X_train, y_train)\n",
        "\n",
        "# Fit a nearest neighbor classifier on the embedded training set\n",
        "pca_knn.fit(pca.transform(X_train), y_train)\n",
        "    \n",
        "y_pred_train = pca_knn.predict(pca.transform(X_train))\n",
        "y_pred_test = pca_knn.predict(pca.transform(X_test))\n",
        "    \n",
        "# Compute the nearest neighbor accuracy on the embedded test set\n",
        "print('PCA')\n",
        "print(\"TRAIN:\", f1_score(y_train, y_pred_train, average='macro'))\n",
        "print(\"TEST:\", f1_score(y_test, y_pred_test, average='macro'))"
      ],
      "metadata": {
        "colab": {
          "base_uri": "https://localhost:8080/"
        },
        "id": "k7_WnjgbIISz",
        "outputId": "7e987073-6805-4980-9822-bad72a8e8574"
      },
      "execution_count": 36,
      "outputs": [
        {
          "output_type": "stream",
          "name": "stdout",
          "text": [
            "PCA\n",
            "TRAIN: 0.8336438591986542\n",
            "TEST: 0.7141484855835957\n"
          ]
        }
      ]
    },
    {
      "cell_type": "markdown",
      "source": [
        "## LDA-KNN"
      ],
      "metadata": {
        "id": "rW14BBKKJT2a"
      }
    },
    {
      "cell_type": "code",
      "source": [
        "# Use a nearest neighbor classifier to evaluate the methods\n",
        "lda_knn = KNeighborsClassifier(n_neighbors=n_neighbors)\n",
        "\n",
        "lda.fit(X_train, y_train)\n",
        "\n",
        "# Fit a nearest neighbor classifier on the embedded training set\n",
        "lda_knn.fit(lda.transform(X_train), y_train)\n",
        "    \n",
        "y_pred_train = lda_knn.predict(lda.transform(X_train))\n",
        "y_pred_test = lda_knn.predict(lda.transform(X_test))\n",
        "    \n",
        "# Compute the nearest neighbor accuracy on the embedded test set\n",
        "print('LDA')\n",
        "print(\"TRAIN:\", f1_score(y_train, y_pred_train, average='macro'))\n",
        "print(\"TEST:\", f1_score(y_test, y_pred_test, average='macro'))"
      ],
      "metadata": {
        "colab": {
          "base_uri": "https://localhost:8080/"
        },
        "id": "DTnFaczFJTFk",
        "outputId": "6683d073-b941-402d-8c69-fecf3e2b6947"
      },
      "execution_count": 37,
      "outputs": [
        {
          "output_type": "stream",
          "name": "stdout",
          "text": [
            "LDA\n",
            "TRAIN: 0.8005699558242952\n",
            "TEST: 0.6488689492368095\n"
          ]
        }
      ]
    },
    {
      "cell_type": "markdown",
      "source": [
        "## Multiclass RF"
      ],
      "metadata": {
        "id": "SmmKzUSDJzrp"
      }
    },
    {
      "cell_type": "code",
      "source": [
        "rf = RandomForestClassifier(n_estimators = 100, max_depth=10, min_samples_leaf=10, random_state=random_state)\n",
        "rf.fit(X_train, y_train)\n",
        "\n",
        "y_pred_train = rf.predict(X_train)\n",
        "y_pred_test = rf.predict(X_test)\n",
        "\n",
        "print(\"TRAIN:\", f1_score(y_train, y_pred_train, average='macro'))\n",
        "print(\"TEST:\", f1_score(y_test, y_pred_test, average='macro'))"
      ],
      "metadata": {
        "colab": {
          "base_uri": "https://localhost:8080/"
        },
        "id": "_yyoV9uwgVqQ",
        "outputId": "e9a04d00-fa28-4d42-cde8-5fc81491e475"
      },
      "execution_count": 38,
      "outputs": [
        {
          "output_type": "stream",
          "name": "stdout",
          "text": [
            "TRAIN: 0.870733521847339\n",
            "TEST: 0.793145258299865\n"
          ]
        }
      ]
    },
    {
      "cell_type": "code",
      "source": [
        "importances = rf.feature_importances_[:20]\n",
        "indices = np.argsort(importances)\n",
        "features = X_train.columns\n",
        "\n",
        "plt.title('Feature Importances')\n",
        "plt.barh(range(len(indices)), importances[indices], color='b', align='center')\n",
        "plt.yticks(range(len(indices)), [features[i] for i in indices])\n",
        "plt.xlabel('Relative Importance')\n",
        "plt.show()"
      ],
      "metadata": {
        "colab": {
          "base_uri": "https://localhost:8080/",
          "height": 295
        },
        "id": "uwuNxrMiJ2bo",
        "outputId": "907a847b-e322-4d90-e7fe-dee2ae6b9be0"
      },
      "execution_count": 39,
      "outputs": [
        {
          "output_type": "display_data",
          "data": {
            "text/plain": [
              "<Figure size 432x288 with 1 Axes>"
            ],
            "image/png": "[encoded data removed]"
          },
          "metadata": {
            "needs_background": "light"
          }
        }
      ]
    },
    {
      "cell_type": "code",
      "source": [
        "rf = RandomForestClassifier(random_state=random_state)\n",
        "\n",
        "param_dist = {\"max_depth\": [5, 10, 12, 15],\n",
        "                  \"n_estimators\": [20, 30, 40, 50]\n",
        "                 }\n",
        "grid_search = GridSearchCV(rf, n_jobs=-1, param_grid=param_dist, cv = 9, scoring='f1_macro', verbose=10)\n",
        "grid_search.fit(X_train, y_train)\n",
        "model = grid_search.best_estimator_\n",
        "    \n",
        "print(model)\n",
        "y_pred_train = model.predict(X_train)\n",
        "y_pred_test = model.predict(X_test)\n",
        "\n",
        "print(\"TRAIN:\", f1_score(y_train, y_pred_train, average='macro'))\n",
        "print(\"TEST:\", f1_score(y_test, y_pred_test, average='macro'))"
      ],
      "metadata": {
        "colab": {
          "base_uri": "https://localhost:8080/"
        },
        "id": "m0_RPK5xJ4rx",
        "outputId": "6a1c94c6-552e-44be-e177-61651d15acfa"
      },
      "execution_count": 40,
      "outputs": [
        {
          "output_type": "stream",
          "name": "stdout",
          "text": [
            "Fitting 9 folds for each of 16 candidates, totalling 144 fits\n",
            "RandomForestClassifier(max_depth=15, n_estimators=50, random_state=42)\n",
            "TRAIN: 0.9941749551334699\n",
            "TEST: 0.8323041983882796\n"
          ]
        }
      ]
    },
    {
      "cell_type": "code",
      "source": [
        "importances = model.feature_importances_[:20]\n",
        "indices = np.argsort(importances)\n",
        "features = X_train.columns\n",
        "\n",
        "plt.title('Feature Importances')\n",
        "plt.barh(range(len(indices)), importances[indices], color='b', align='center')\n",
        "plt.yticks(range(len(indices)), [features[i] for i in indices])\n",
        "plt.xlabel('Relative Importance')\n",
        "plt.show()"
      ],
      "metadata": {
        "colab": {
          "base_uri": "https://localhost:8080/",
          "height": 295
        },
        "id": "48_FVulvcRlC",
        "outputId": "5e3dccde-1501-4ba8-ab71-b8ae1e9d81fe"
      },
      "execution_count": 41,
      "outputs": [
        {
          "output_type": "display_data",
          "data": {
            "text/plain": [
              "<Figure size 432x288 with 1 Axes>"
            ],
            "image/png": "[encoded data removed]"
          },
          "metadata": {
            "needs_background": "light"
          }
        }
      ]
    },
    {
      "cell_type": "code",
      "source": [
        "cf_matrix = confusion_matrix(y_train, y_pred_train)\n",
        "sns.heatmap(cf_matrix, annot=True, fmt='.0f')"
      ],
      "metadata": {
        "colab": {
          "base_uri": "https://localhost:8080/",
          "height": 282
        },
        "id": "j4uf3EZpKHF7",
        "outputId": "880423c5-b837-4af9-d794-c3189b19d9fe"
      },
      "execution_count": 42,
      "outputs": [
        {
          "output_type": "execute_result",
          "data": {
            "text/plain": [
              "<matplotlib.axes._subplots.AxesSubplot at 0x7f3f94969c90>"
            ]
          },
          "metadata": {},
          "execution_count": 42
        },
        {
          "output_type": "display_data",
          "data": {
            "text/plain": [
              "<Figure size 432x288 with 2 Axes>"
            ],
            "image/png": "[encoded data removed]"
          },
          "metadata": {
            "needs_background": "light"
          }
        }
      ]
    },
    {
      "cell_type": "code",
      "source": [
        "cf_matrix = confusion_matrix(y_test, y_pred_test)\n",
        "sns.heatmap(cf_matrix, annot=True, fmt='.0f')"
      ],
      "metadata": {
        "colab": {
          "base_uri": "https://localhost:8080/",
          "height": 282
        },
        "id": "tb0prKY-J4lz",
        "outputId": "f90ccaf4-e5a1-4055-cc5e-4c9cbb859bd9"
      },
      "execution_count": 43,
      "outputs": [
        {
          "output_type": "execute_result",
          "data": {
            "text/plain": [
              "<matplotlib.axes._subplots.AxesSubplot at 0x7f3f93f8e9d0>"
            ]
          },
          "metadata": {},
          "execution_count": 43
        },
        {
          "output_type": "display_data",
          "data": {
            "text/plain": [
              "<Figure size 432x288 with 2 Axes>"
            ],
            "image/png": "[encoded data removed]"
          },
          "metadata": {
            "needs_background": "light"
          }
        }
      ]
    },
    {
      "cell_type": "markdown",
      "source": [
        "## SMOTE - Multiclass RF"
      ],
      "metadata": {
        "id": "amHPru1mKM6b"
      }
    },
    {
      "cell_type": "code",
      "source": [
        "oversample = SMOTENC(categorical_features=[0])\n",
        "X_train_ov, y_train_ov = oversample.fit_resample(X_train, y_train)\n",
        "\n",
        "print('Before Sampling')\n",
        "counter = Counter(y_train)\n",
        "for k,v in counter.items():\n",
        "    per = v / len(y) * 100\n",
        "    print('Class=%d, n=%d (%.3f%%)' % (k, v, per))\n",
        "\n",
        "print('\\n After Sampling')\n",
        "counter = Counter(y_train_ov)\n",
        "for k,v in counter.items():\n",
        "    per = v / len(y) * 100\n",
        "    print('Class=%d, n=%d (%.3f%%)' % (k, v, per))"
      ],
      "metadata": {
        "colab": {
          "base_uri": "https://localhost:8080/"
        },
        "id": "yeLEpg6tKQrE",
        "outputId": "fb6f8bed-3fe3-49f0-c988-29a91ec81039"
      },
      "execution_count": 44,
      "outputs": [
        {
          "output_type": "stream",
          "name": "stdout",
          "text": [
            "Before Sampling\n",
            "Class=0, n=2815 (40.209%)\n",
            "Class=2, n=551 (7.870%)\n",
            "Class=1, n=2234 (31.910%)\n",
            "\n",
            " After Sampling\n",
            "Class=0, n=2815 (40.209%)\n",
            "Class=2, n=2815 (40.209%)\n",
            "Class=1, n=2815 (40.209%)\n"
          ]
        }
      ]
    },
    {
      "cell_type": "code",
      "source": [
        "for col in X_train_ov.columns:\n",
        "    X_train_ov[col] = X_train_ov[col].astype(int)\n",
        "    X_train[col] = X_train[col].astype(int)\n",
        "    X_test[col] = X_test[col].astype(int)"
      ],
      "metadata": {
        "id": "MsB1VHHEe5zH"
      },
      "execution_count": 45,
      "outputs": []
    },
    {
      "cell_type": "code",
      "source": [
        "rf = RandomForestClassifier(random_state=random_state)\n",
        "\n",
        "param_dist = {\"max_depth\": [20, 30, 35, 45, 50],\n",
        "                  \"n_estimators\": [150, 200, 250, 300]\n",
        "                 }\n",
        "grid_search = GridSearchCV(rf, n_jobs=-1, param_grid=param_dist, cv = 5, scoring='f1_macro', verbose=20)\n",
        "grid_search.fit(X_train_ov, y_train_ov)\n",
        "smote_model = grid_search.best_estimator_\n",
        "    \n",
        "print(smote_model)\n",
        "y_pred_train_ = smote_model.predict(X_train_ov)\n",
        "y_pred_train = smote_model.predict(X_train)\n",
        "y_pred_test = smote_model.predict(X_test)\n",
        "\n",
        "print(\"TRAIN (oversample):\", f1_score(y_train_ov, y_pred_train_, average='macro'))\n",
        "print(\"TRAIN:\", f1_score(y_train, y_pred_train, average='macro'))\n",
        "print(\"TEST:\", f1_score(y_test, y_pred_test, average='macro'))"
      ],
      "metadata": {
        "colab": {
          "base_uri": "https://localhost:8080/"
        },
        "id": "lFLaMJDcKSoO",
        "outputId": "31f044a5-2737-47f7-ecf5-ee7fb4feb5b0"
      },
      "execution_count": 46,
      "outputs": [
        {
          "output_type": "stream",
          "name": "stdout",
          "text": [
            "Fitting 5 folds for each of 20 candidates, totalling 100 fits\n",
            "RandomForestClassifier(max_depth=35, n_estimators=250, random_state=42)\n",
            "TRAIN (oversample): 1.0\n",
            "TRAIN: 1.0\n",
            "TEST: 0.8264109722131447\n"
          ]
        }
      ]
    },
    {
      "cell_type": "code",
      "source": [
        "cf_matrix = confusion_matrix(y_train, y_pred_train)\n",
        "sns.heatmap(cf_matrix, annot=True, fmt='.0f')"
      ],
      "metadata": {
        "id": "18vlSeF5KLWN",
        "colab": {
          "base_uri": "https://localhost:8080/",
          "height": 282
        },
        "outputId": "957d1db1-3fc6-47e9-f2be-28c60950f6f9"
      },
      "execution_count": 47,
      "outputs": [
        {
          "output_type": "execute_result",
          "data": {
            "text/plain": [
              "<matplotlib.axes._subplots.AxesSubplot at 0x7f3f938650d0>"
            ]
          },
          "metadata": {},
          "execution_count": 47
        },
        {
          "output_type": "display_data",
          "data": {
            "text/plain": [
              "<Figure size 432x288 with 2 Axes>"
            ],
            "image/png": "[encoded data removed]"
          },
          "metadata": {
            "needs_background": "light"
          }
        }
      ]
    },
    {
      "cell_type": "code",
      "source": [
        "cf_matrix = confusion_matrix(y_test, y_pred_test)\n",
        "sns.heatmap(cf_matrix, annot=True, fmt='.0f')"
      ],
      "metadata": {
        "id": "UNF4mUt4KLO7",
        "colab": {
          "base_uri": "https://localhost:8080/",
          "height": 282
        },
        "outputId": "8738d838-4d0e-43e0-81bd-bbdb2d98d598"
      },
      "execution_count": 48,
      "outputs": [
        {
          "output_type": "execute_result",
          "data": {
            "text/plain": [
              "<matplotlib.axes._subplots.AxesSubplot at 0x7f3f93eb6f10>"
            ]
          },
          "metadata": {},
          "execution_count": 48
        },
        {
          "output_type": "display_data",
          "data": {
            "text/plain": [
              "<Figure size 432x288 with 2 Axes>"
            ],
            "image/png": "[encoded data removed]"
          },
          "metadata": {
            "needs_background": "light"
          }
        }
      ]
    },
    {
      "cell_type": "markdown",
      "source": [
        "## One to each - LGBM"
      ],
      "metadata": {
        "id": "yBySq90OoMbq"
      }
    },
    {
      "cell_type": "code",
      "source": [
        "# Split into train/test\n",
        "X_train, X_test, y_train, y_test = train_test_split(\n",
        "        X, y, test_size=0.2, random_state=random_state)\n",
        "\n",
        "all_pred_train = pd.DataFrame()\n",
        "all_pred_test = pd.DataFrame()\n",
        "\n",
        "for segment in range(0,n_classes):\n",
        "    print(segment)\n",
        "    \n",
        "    y_train_onehot = y_train.apply(lambda x:1 if x == segment else 0)\n",
        "    y_test_onehot = y_test.apply(lambda x:1 if x == segment else 0)\n",
        "\n",
        "    true = y_train_onehot.loc[ y_train_onehot == 1].index.to_list()\n",
        "    non_true = y_train_onehot.loc[ y_train_onehot == 0].sample( round(len(true)*0.8) ).index.to_list()\n",
        "    idx = true + non_true\n",
        "    \n",
        "    X_train_ = X_train.loc[idx]\n",
        "    y_train_onehot_ = y_train_onehot.loc[idx]\n",
        "\n",
        "    #oversample = SMOTE()\n",
        "    #X_train_, y_train_onehot_ = oversample.fit_resample(X_train, y_train_onehot)\n",
        "    \n",
        "    lgtrain_ = lgb.Dataset(X_train_, label=y_train_onehot_)\n",
        "    \n",
        "    lg = lgb.LGBMClassifier(silent=False)\n",
        "    param_dist = {\"max_depth\": [20,30,50],\n",
        "                  \"learning_rate\" : [0.05, 0.1],\n",
        "                  \"num_leaves\": [20,30,50],\n",
        "                  \"n_estimators\": [250]\n",
        "                 }\n",
        "    grid_search = GridSearchCV(lg, n_jobs=-1, param_grid=param_dist, cv = 3, scoring=\"roc_auc\", verbose=10)\n",
        "    grid_search.fit(X_train_, y_train_onehot_)\n",
        "    model_ = grid_search.best_estimator_\n",
        "    \n",
        "    print(model)\n",
        "    y_pred_train_ = model_.predict(X_train_)\n",
        "    y_pred_train = model_.predict(X_train)\n",
        "    y_pred_test = model_.predict(X_test)\n",
        "    \n",
        "    print(\"TRAIN (Oversample):\", f1_score(y_train_onehot_, y_pred_train_))\n",
        "    print(\"TRAIN:\", f1_score(y_train_onehot, y_pred_train))\n",
        "    print(\"TEST:\", f1_score(y_test_onehot, y_pred_test))\n",
        "    \n",
        "    y_proba_train = model_.predict_proba(X_train)\n",
        "    y_proba_test = model_.predict_proba(X_test)\n",
        "    \n",
        "    all_pred_train = pd.concat([all_pred_train, pd.DataFrame({'pred_'+str(segment):y_pred_train,'proba_'+str(segment):y_proba_train[:, 0]})], axis=1)\n",
        "    all_pred_test = pd.concat([all_pred_test, pd.DataFrame({'pred_'+str(segment):y_pred_test,'proba_'+str(segment):y_proba_test[:, 0]})], axis=1)  \n",
        "    \n",
        "#all_pred_train['result'] = y_train.values\n",
        "#all_pred_test['result'] = y_test.values"
      ],
      "metadata": {
        "colab": {
          "base_uri": "https://localhost:8080/"
        },
        "id": "lKnzrpo-J4YJ",
        "outputId": "dd1ad271-0f7f-4fc1-d1ee-9d16d89c977a"
      },
      "execution_count": 49,
      "outputs": [
        {
          "output_type": "stream",
          "name": "stdout",
          "text": [
            "0\n",
            "Fitting 3 folds for each of 18 candidates, totalling 54 fits\n",
            "RandomForestClassifier(max_depth=15, n_estimators=50, random_state=42)\n",
            "TRAIN (Oversample): 1.0\n",
            "TRAIN: 0.9917442473212716\n",
            "TEST: 0.9172510518934082\n",
            "1\n",
            "Fitting 3 folds for each of 18 candidates, totalling 54 fits\n",
            "RandomForestClassifier(max_depth=15, n_estimators=50, random_state=42)\n",
            "TRAIN (Oversample): 1.0\n",
            "TRAIN: 0.97405711794201\n",
            "TEST: 0.9428076256499134\n",
            "2\n",
            "Fitting 3 folds for each of 18 candidates, totalling 54 fits\n",
            "RandomForestClassifier(max_depth=15, n_estimators=50, random_state=42)\n",
            "TRAIN (Oversample): 1.0\n",
            "TRAIN: 0.5682888540031398\n",
            "TEST: 0.472168905950096\n"
          ]
        }
      ]
    },
    {
      "cell_type": "code",
      "source": [
        "def obtain_results_(df):\n",
        "    proba_cols = [col for col in df.columns if str.__contains__(col,\"proba\")]\n",
        "\n",
        "    for col in range(0,n_classes):\n",
        "        proba = 'proba_'+str(col)\n",
        "        pred = 'pred_'+str(col)\n",
        "        df.loc[df[pred] == 0,proba] = -abs(df.loc[all_pred_train[pred]== 0,proba])\n",
        "\n",
        "    maxValueIndex = df[proba_cols].idxmax(axis = 1)\n",
        "\n",
        "    df['FINAL'] = maxValueIndex\n",
        "\n",
        "    df['FINAL'] = df['FINAL'].apply( lambda x: x.split('_')[1]).astype(int)\n",
        "    \n",
        "    return(df)"
      ],
      "metadata": {
        "id": "UQ-K9Gdw9o__"
      },
      "execution_count": 50,
      "outputs": []
    },
    {
      "cell_type": "code",
      "source": [
        "all_pred_train = obtain_results_(all_pred_train)\n",
        "all_pred_test = obtain_results_(all_pred_test)\n",
        "\n",
        "all_pred_train['ACTUAL'] = y_train.values\n",
        "all_pred_test['ACTUAL'] = y_test.values\n",
        "all_pred_train"
      ],
      "metadata": {
        "colab": {
          "base_uri": "https://localhost:8080/",
          "height": 424
        },
        "id": "N4K8oxTL9sAr",
        "outputId": "3962910d-4238-46eb-f722-f04419b68203"
      },
      "execution_count": 51,
      "outputs": [
        {
          "output_type": "execute_result",
          "data": {
            "text/plain": [
              "      pred_0       proba_0  pred_1       proba_1  pred_2   proba_2  FINAL  \\\n",
              "0          0 -9.995981e-01       1  1.401142e-05       0 -0.999639      1   \n",
              "1          1  1.482050e-03       0 -8.924414e-01       0 -0.999891      0   \n",
              "2          1  2.029336e-03       0 -9.999545e-01       0 -0.999194      0   \n",
              "3          0 -9.999011e-01       1  4.707965e-06       0 -0.845066      1   \n",
              "4          1  2.843329e-06       0 -9.999993e-01       0 -0.933923      0   \n",
              "...      ...           ...     ...           ...     ...       ...    ...   \n",
              "5595       0 -9.999570e-01       1  7.411881e-07       0 -0.997514      1   \n",
              "5596       0 -9.976584e-01       1  6.724620e-05       0 -0.999953      1   \n",
              "5597       1  7.493316e-07       0 -9.999999e-01       0 -0.999979      0   \n",
              "5598       1  1.308185e-05       0 -9.999973e-01       0 -0.504222      0   \n",
              "5599       1  9.649361e-08       0 -1.000000e+00       0 -0.999826      0   \n",
              "\n",
              "     ACTUAL  \n",
              "0         1  \n",
              "1         0  \n",
              "2         0  \n",
              "3         1  \n",
              "4         0  \n",
              "...     ...  \n",
              "5595      1  \n",
              "5596      1  \n",
              "5597      0  \n",
              "5598      0  \n",
              "5599      0  \n",
              "\n",
              "[5600 rows x 8 columns]"
            ],
            "text/html": [
              "\n",
              "  <div id=\"df-c061b4d3-5823-4579-a20b-e88d7972cc5d\">\n",
              "    <div class=\"colab-df-container\">\n",
              "      <div>\n",
              "<style scoped>\n",
              "    .dataframe tbody tr th:only-of-type {\n",
              "        vertical-align: middle;\n",
              "    }\n",
              "\n",
              "    .dataframe tbody tr th {\n",
              "        vertical-align: top;\n",
              "    }\n",
              "\n",
              "    .dataframe thead th {\n",
              "        text-align: right;\n",
              "    }\n",
              "</style>\n",
              "<table border=\"1\" class=\"dataframe\">\n",
              "  <thead>\n",
              "    <tr style=\"text-align: right;\">\n",
              "      <th></th>\n",
              "      <th>pred_0</th>\n",
              "      <th>proba_0</th>\n",
              "      <th>pred_1</th>\n",
              "      <th>proba_1</th>\n",
              "      <th>pred_2</th>\n",
              "      <th>proba_2</th>\n",
              "      <th>FINAL</th>\n",
              "      <th>ACTUAL</th>\n",
              "    </tr>\n",
              "  </thead>\n",
              "  <tbody>\n",
              "    <tr>\n",
              "      <th>0</th>\n",
              "      <td>0</td>\n",
              "      <td>-9.995981e-01</td>\n",
              "      <td>1</td>\n",
              "      <td>1.401142e-05</td>\n",
              "      <td>0</td>\n",
              "      <td>-0.999639</td>\n",
              "      <td>1</td>\n",
              "      <td>1</td>\n",
              "    </tr>\n",
              "    <tr>\n",
              "      <th>1</th>\n",
              "      <td>1</td>\n",
              "      <td>1.482050e-03</td>\n",
              "      <td>0</td>\n",
              "      <td>-8.924414e-01</td>\n",
              "      <td>0</td>\n",
              "      <td>-0.999891</td>\n",
              "      <td>0</td>\n",
              "      <td>0</td>\n",
              "    </tr>\n",
              "    <tr>\n",
              "      <th>2</th>\n",
              "      <td>1</td>\n",
              "      <td>2.029336e-03</td>\n",
              "      <td>0</td>\n",
              "      <td>-9.999545e-01</td>\n",
              "      <td>0</td>\n",
              "      <td>-0.999194</td>\n",
              "      <td>0</td>\n",
              "      <td>0</td>\n",
              "    </tr>\n",
              "    <tr>\n",
              "      <th>3</th>\n",
              "      <td>0</td>\n",
              "      <td>-9.999011e-01</td>\n",
              "      <td>1</td>\n",
              "      <td>4.707965e-06</td>\n",
              "      <td>0</td>\n",
              "      <td>-0.845066</td>\n",
              "      <td>1</td>\n",
              "      <td>1</td>\n",
              "    </tr>\n",
              "    <tr>\n",
              "      <th>4</th>\n",
              "      <td>1</td>\n",
              "      <td>2.843329e-06</td>\n",
              "      <td>0</td>\n",
              "      <td>-9.999993e-01</td>\n",
              "      <td>0</td>\n",
              "      <td>-0.933923</td>\n",
              "      <td>0</td>\n",
              "      <td>0</td>\n",
              "    </tr>\n",
              "    <tr>\n",
              "      <th>...</th>\n",
              "      <td>...</td>\n",
              "      <td>...</td>\n",
              "      <td>...</td>\n",
              "      <td>...</td>\n",
              "      <td>...</td>\n",
              "      <td>...</td>\n",
              "      <td>...</td>\n",
              "      <td>...</td>\n",
              "    </tr>\n",
              "    <tr>\n",
              "      <th>5595</th>\n",
              "      <td>0</td>\n",
              "      <td>-9.999570e-01</td>\n",
              "      <td>1</td>\n",
              "      <td>7.411881e-07</td>\n",
              "      <td>0</td>\n",
              "      <td>-0.997514</td>\n",
              "      <td>1</td>\n",
              "      <td>1</td>\n",
              "    </tr>\n",
              "    <tr>\n",
              "      <th>5596</th>\n",
              "      <td>0</td>\n",
              "      <td>-9.976584e-01</td>\n",
              "      <td>1</td>\n",
              "      <td>6.724620e-05</td>\n",
              "      <td>0</td>\n",
              "      <td>-0.999953</td>\n",
              "      <td>1</td>\n",
              "      <td>1</td>\n",
              "    </tr>\n",
              "    <tr>\n",
              "      <th>5597</th>\n",
              "      <td>1</td>\n",
              "      <td>7.493316e-07</td>\n",
              "      <td>0</td>\n",
              "      <td>-9.999999e-01</td>\n",
              "      <td>0</td>\n",
              "      <td>-0.999979</td>\n",
              "      <td>0</td>\n",
              "      <td>0</td>\n",
              "    </tr>\n",
              "    <tr>\n",
              "      <th>5598</th>\n",
              "      <td>1</td>\n",
              "      <td>1.308185e-05</td>\n",
              "      <td>0</td>\n",
              "      <td>-9.999973e-01</td>\n",
              "      <td>0</td>\n",
              "      <td>-0.504222</td>\n",
              "      <td>0</td>\n",
              "      <td>0</td>\n",
              "    </tr>\n",
              "    <tr>\n",
              "      <th>5599</th>\n",
              "      <td>1</td>\n",
              "      <td>9.649361e-08</td>\n",
              "      <td>0</td>\n",
              "      <td>-1.000000e+00</td>\n",
              "      <td>0</td>\n",
              "      <td>-0.999826</td>\n",
              "      <td>0</td>\n",
              "      <td>0</td>\n",
              "    </tr>\n",
              "  </tbody>\n",
              "</table>\n",
              "<p>5600 rows × 8 columns</p>\n",
              "</div>\n",
              "      <button class=\"colab-df-convert\" onclick=\"convertToInteractive('df-c061b4d3-5823-4579-a20b-e88d7972cc5d')\"\n",
              "              title=\"Convert this dataframe to an interactive table.\"\n",
              "              style=\"display:none;\">\n",
              "        \n",
              "  <svg xmlns=\"http://www.w3.org/2000/svg\" height=\"24px\"viewBox=\"0 0 24 24\"\n",
              "       width=\"24px\">\n",
              "    <path d=\"M0 0h24v24H0V0z\" fill=\"none\"/>\n",
              "    <path d=\"M18.56 5.44l.94 2.06.94-2.06 2.06-.94-2.06-.94-.94-2.06-.94 2.06-2.06.94zm-11 1L8.5 8.5l.94-2.06 2.06-.94-2.06-.94L8.5 2.5l-.94 2.06-2.06.94zm10 10l.94 2.06.94-2.06 2.06-.94-2.06-.94-.94-2.06-.94 2.06-2.06.94z\"/><path d=\"M17.41 7.96l-1.37-1.37c-.4-.4-.92-.59-1.43-.59-.52 0-1.04.2-1.43.59L10.3 9.45l-7.72 7.72c-.78.78-.78 2.05 0 2.83L4 21.41c.39.39.9.59 1.41.59.51 0 1.02-.2 1.41-.59l7.78-7.78 2.81-2.81c.8-.78.8-2.07 0-2.86zM5.41 20L4 18.59l7.72-7.72 1.47 1.35L5.41 20z\"/>\n",
              "  </svg>\n",
              "      </button>\n",
              "      \n",
              "  <style>\n",
              "    .colab-df-container {\n",
              "      display:flex;\n",
              "      flex-wrap:wrap;\n",
              "      gap: 12px;\n",
              "    }\n",
              "\n",
              "    .colab-df-convert {\n",
              "      background-color: #E8F0FE;\n",
              "      border: none;\n",
              "      border-radius: 50%;\n",
              "      cursor: pointer;\n",
              "      display: none;\n",
              "      fill: #1967D2;\n",
              "      height: 32px;\n",
              "      padding: 0 0 0 0;\n",
              "      width: 32px;\n",
              "    }\n",
              "\n",
              "    .colab-df-convert:hover {\n",
              "      background-color: #E2EBFA;\n",
              "      box-shadow: 0px 1px 2px rgba(60, 64, 67, 0.3), 0px 1px 3px 1px rgba(60, 64, 67, 0.15);\n",
              "      fill: #174EA6;\n",
              "    }\n",
              "\n",
              "    [theme=dark] .colab-df-convert {\n",
              "      background-color: #3B4455;\n",
              "      fill: #D2E3FC;\n",
              "    }\n",
              "\n",
              "    [theme=dark] .colab-df-convert:hover {\n",
              "      background-color: #434B5C;\n",
              "      box-shadow: 0px 1px 3px 1px rgba(0, 0, 0, 0.15);\n",
              "      filter: drop-shadow(0px 1px 2px rgba(0, 0, 0, 0.3));\n",
              "      fill: #FFFFFF;\n",
              "    }\n",
              "  </style>\n",
              "\n",
              "      <script>\n",
              "        const buttonEl =\n",
              "          document.querySelector('#df-c061b4d3-5823-4579-a20b-e88d7972cc5d button.colab-df-convert');\n",
              "        buttonEl.style.display =\n",
              "          google.colab.kernel.accessAllowed ? 'block' : 'none';\n",
              "\n",
              "        async function convertToInteractive(key) {\n",
              "          const element = document.querySelector('#df-c061b4d3-5823-4579-a20b-e88d7972cc5d');\n",
              "          const dataTable =\n",
              "            await google.colab.kernel.invokeFunction('convertToInteractive',\n",
              "                                                     [key], {});\n",
              "          if (!dataTable) return;\n",
              "\n",
              "          const docLinkHtml = 'Like what you see? Visit the ' +\n",
              "            '<a target=\"_blank\" href=https://colab.research.google.com/notebooks/data_table.ipynb>data table notebook</a>'\n",
              "            + ' to learn more about interactive tables.';\n",
              "          element.innerHTML = '';\n",
              "          dataTable['output_type'] = 'display_data';\n",
              "          await google.colab.output.renderOutput(dataTable, element);\n",
              "          const docLink = document.createElement('div');\n",
              "          docLink.innerHTML = docLinkHtml;\n",
              "          element.appendChild(docLink);\n",
              "        }\n",
              "      </script>\n",
              "    </div>\n",
              "  </div>\n",
              "  "
            ]
          },
          "metadata": {},
          "execution_count": 51
        }
      ]
    },
    {
      "cell_type": "code",
      "source": [
        "print(\"TRAIN:\", f1_score(all_pred_train['FINAL'], all_pred_train['ACTUAL'], average='macro'))\n",
        "print(\"TEST:\", f1_score(all_pred_test['FINAL'], all_pred_test['ACTUAL'], average='macro'))"
      ],
      "metadata": {
        "colab": {
          "base_uri": "https://localhost:8080/"
        },
        "id": "VMz3FqqM99iO",
        "outputId": "d370bb3d-5419-4941-e33c-887386ba8b68"
      },
      "execution_count": 52,
      "outputs": [
        {
          "output_type": "stream",
          "name": "stdout",
          "text": [
            "TRAIN: 0.7845100018585653\n",
            "TEST: 0.7181210483895316\n"
          ]
        }
      ]
    },
    {
      "cell_type": "code",
      "source": [
        "cf_matrix = confusion_matrix(all_pred_train['FINAL'], all_pred_train['ACTUAL'])\n",
        "sns.heatmap(cf_matrix, annot=True, fmt='.0f')"
      ],
      "metadata": {
        "colab": {
          "base_uri": "https://localhost:8080/",
          "height": 282
        },
        "id": "UovY-DgJ93LE",
        "outputId": "093954a0-8182-4a58-b407-2a4f9ff9e32e"
      },
      "execution_count": 53,
      "outputs": [
        {
          "output_type": "execute_result",
          "data": {
            "text/plain": [
              "<matplotlib.axes._subplots.AxesSubplot at 0x7f3f93dd5150>"
            ]
          },
          "metadata": {},
          "execution_count": 53
        },
        {
          "output_type": "display_data",
          "data": {
            "text/plain": [
              "<Figure size 432x288 with 2 Axes>"
            ],
            "image/png": "[encoded data removed]"
          },
          "metadata": {
            "needs_background": "light"
          }
        }
      ]
    },
    {
      "cell_type": "code",
      "source": [
        "cf_matrix = confusion_matrix(all_pred_test['FINAL'], all_pred_test['ACTUAL'])\n",
        "sns.heatmap(cf_matrix, annot=True, fmt='.0f')"
      ],
      "metadata": {
        "colab": {
          "base_uri": "https://localhost:8080/",
          "height": 282
        },
        "id": "sl593xvH939E",
        "outputId": "1292e547-7b0c-4475-b96c-3251bfdbd882"
      },
      "execution_count": 54,
      "outputs": [
        {
          "output_type": "execute_result",
          "data": {
            "text/plain": [
              "<matplotlib.axes._subplots.AxesSubplot at 0x7f3f9484ce50>"
            ]
          },
          "metadata": {},
          "execution_count": 54
        },
        {
          "output_type": "display_data",
          "data": {
            "text/plain": [
              "<Figure size 432x288 with 2 Axes>"
            ],
            "image/png": "[encoded data removed]"
          },
          "metadata": {
            "needs_background": "light"
          }
        }
      ]
    },
    {
      "cell_type": "markdown",
      "source": [
        "# Modelo con la mejor performance\n",
        "\n",
        "La tipología de modelos que mejor resultado ha dado ha sido: Multiclass RF. \n",
        "Este tipo de modelo se entrenará con todo el dataset y se utilizará el modelo para hacer las predicciones.\n",
        "\n",
        "Se ha preferido utilizar todo el dataset para entrenar el modelo porque hay muchos pocos registros y de esta manera asegurar que el modelo construido ha visto la mayor cantidad de datos.\n",
        "\n",
        "Para la construcción del modelo se realiza un Cross Validation con hasta 7 particiones y se hace Grid Search para encontrar los mejores hyperparameters."
      ],
      "metadata": {
        "id": "VgVrPXwZ-TmU"
      }
    },
    {
      "cell_type": "code",
      "source": [
        "rf = RandomForestClassifier(random_state=random_state)\n",
        "\n",
        "param_dist = {\"max_depth\": [5, 10, 12, 15],\n",
        "                  \"n_estimators\": [20, 30, 40, 50]\n",
        "                 }\n",
        "grid_search = GridSearchCV(rf, n_jobs=-1, param_grid=param_dist, cv = 9, scoring='f1_macro', verbose=10)\n",
        "grid_search.fit(X[features], y)\n",
        "model = grid_search.best_estimator_\n",
        "    \n",
        "print(model)\n",
        "pred = model.predict(X)\n",
        "\n",
        "print(\"TRAIN:\", f1_score(y, pred, average='macro'))"
      ],
      "metadata": {
        "colab": {
          "base_uri": "https://localhost:8080/"
        },
        "id": "MgugxBeF9T7L",
        "outputId": "129bd331-dee2-4d71-a3e9-9786fb83ccba"
      },
      "execution_count": 61,
      "outputs": [
        {
          "output_type": "stream",
          "name": "stdout",
          "text": [
            "Fitting 9 folds for each of 16 candidates, totalling 144 fits\n",
            "RandomForestClassifier(max_depth=15, n_estimators=50, random_state=42)\n",
            "TRAIN: 0.9896997406188582\n"
          ]
        }
      ]
    },
    {
      "cell_type": "markdown",
      "source": [
        "# Predicciones finales\n",
        "\n",
        "Una vez entrenado el modelo, se preparan los datos de test y se realizan las predicciones finales. Se guardan en un csv ('results.csv') para será evaluado por los jueces."
      ],
      "metadata": {
        "id": "AZML3bhneKRw"
      }
    },
    {
      "cell_type": "code",
      "source": [
        "test_df = pd.read_csv(os.path.join(DIR,'test_x.csv'), index_col = 0)"
      ],
      "metadata": {
        "id": "kjlnKBOleM5U"
      },
      "execution_count": 62,
      "outputs": []
    },
    {
      "cell_type": "code",
      "source": [
        "test_df, diff_among_cats = op_2comp(test_df, vars, 'sum')\n",
        "test_df, diff_among_cats = op_2comp(test_df, vars, 'diff')\n",
        "test_df, diff_among_cats = op_2comp(test_df, vars, 'mult')"
      ],
      "metadata": {
        "id": "uWnRvMDBdwo6"
      },
      "execution_count": 63,
      "outputs": []
    },
    {
      "cell_type": "code",
      "source": [
        "test_df, diff_among_cats = op_3comp(test_df, vars, 'sum', 'sum')\n",
        "test_df, diff_among_cats = op_3comp(test_df, vars, 'sum', 'diff')\n",
        "test_df, diff_among_cats = op_3comp(test_df, vars, 'sum', 'mult')\n",
        "test_df, diff_among_cats = op_3comp(test_df, vars, 'diff', 'diff')\n",
        "test_df, diff_among_cats = op_3comp(test_df, vars, 'diff', 'sum')\n",
        "test_df, diff_among_cats = op_3comp(test_df, vars, 'diff', 'mult')\n",
        "test_df, diff_among_cats = op_3comp(test_df, vars, 'mult', 'diff')\n",
        "test_df, diff_among_cats = op_3comp(test_df, vars, 'mult', 'sum')\n",
        "test_df, diff_among_cats = op_3comp(test_df, vars, 'mult', 'mult')"
      ],
      "metadata": {
        "id": "A8G-NmHQeZ-U"
      },
      "execution_count": 64,
      "outputs": []
    },
    {
      "cell_type": "code",
      "source": [
        "X_valida = test_df[features]\n",
        "y_valida_pred = model.predict(X_valida)\n",
        "y_valida_pred = pd.DataFrame(y_valida_pred, index=test_df.index, columns=['Insect'])"
      ],
      "metadata": {
        "id": "u-BR4r3Veyhw"
      },
      "execution_count": 65,
      "outputs": []
    },
    {
      "cell_type": "code",
      "source": [
        "y_valida_pred.to_csv(os.path.join(DIR, 'results.csv'))"
      ],
      "metadata": {
        "id": "F9hwxZEbgrVL"
      },
      "execution_count": 66,
      "outputs": []
    }
  ]
}